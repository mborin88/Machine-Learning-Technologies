{
 "cells": [
  {
   "cell_type": "code",
   "execution_count": 17,
   "id": "78b2c7a2",
   "metadata": {},
   "outputs": [
    {
     "name": "stdout",
     "output_type": "stream",
     "text": [
      "[50, 51, 11, 45, 29, 49, 8, 76, 29, 85, 58, 51, 0, 99, 77, 69, 92, 13, 20, 20, 20, 88, 99, 100, 98, 11, 93, 6, 24, 30, 91, 100, 67, 85, 92, 70, 65, 0, 73, 9, 93, 50, 58, 91, 67, 31, 42, 30, 22, 65, 56, 54, 81, 58, 82, 61, 79, 71, 26, 49, 27, 12, 89, 41, 26, 73, 44, 49, 96, 91, 31, 61, 100, 81, 41, 68, 30, 91, 95, 3, 1, 79, 17, 55, 98, 92, 84, 7, 66, 60, 100, 20, 92, 71, 20, 26, 94, 93, 90, 98, 4, 28, 45, 46, 10, 38, 24, 92, 33, 61, 52, 51, 60, 97, 10, 40, 94, 84, 5, 83, 93, 39, 22, 71, 100, 82, 99, 81, 8, 30, 12, 6, 100, 90, 30, 87, 58, 60, 20, 89, 79, 64, 48, 30, 75, 44, 94, 21, 22, 1, 27, 28, 55, 40, 62, 72, 74, 22, 68, 71, 43, 8, 93, 72, 50, 47, 39, 86, 52, 60, 16, 53, 61, 2, 79, 53, 29, 13, 39, 7, 92, 20, 62, 32, 16, 50, 18, 46, 57, 51, 57, 43, 55, 68, 58, 80, 51, 12, 63, 85, 61, 4, 90, 31, 82, 9, 9, 94, 51, 42, 27, 22, 20, 11, 54, 50, 81, 92, 46, 52, 79, 26, 35, 5, 65, 4, 93, 4, 45, 33, 24, 72, 8, 81, 32, 95, 4, 70, 31, 21, 68, 19, 100, 9, 71, 22, 21, 85, 23, 38, 44, 67, 94, 80, 11, 54, 54, 77, 19, 50, 65, 73, 11, 42, 71, 69, 17, 64, 71, 24, 4, 39, 26, 31, 2, 30, 2, 46, 65, 59, 11, 86, 47, 99, 79, 66, 83, 90, 21, 93, 52, 96, 98, 94, 64, 12, 67, 2, 88, 85, 54, 57, 69, 12, 94, 71, 5, 27, 9, 85, 20, 28, 91, 78, 71, 1, 37, 81, 91, 28, 82, 31, 24, 38, 62, 4, 65, 43, 70, 88, 4, 44, 0, 18, 13, 35, 65, 12, 58, 35, 77, 60, 73, 34, 14, 23, 71, 19, 57, 76, 25, 96, 40, 95, 16, 67, 76, 98, 78, 20, 27, 39, 18, 98, 15, 86, 46, 13, 17, 25, 90, 8, 20, 68, 3, 93, 47, 26, 27, 84, 67, 30, 2, 61, 28, 18, 90, 33, 20, 81, 99, 69, 87, 51, 36, 12, 22, 53, 24, 84, 3, 22, 99, 17, 84, 36, 88, 55, 7, 88, 22, 75, 60, 52, 45, 27, 72, 21, 23, 22, 53, 38, 67, 65, 85, 59, 46, 72, 14, 72, 66, 49, 55, 88, 6, 13, 58, 75, 49, 15, 0, 27, 19, 16, 11, 49, 76, 100, 88, 28, 37, 63, 72, 52, 54, 35, 44, 41, 80, 92, 27, 40, 99, 71, 24, 75, 68, 83, 79, 11, 3, 39, 31, 65, 75, 32, 97, 98, 89, 78, 16, 13, 95, 82, 0, 4, 20, 16, 25, 5, 67, 19, 96, 66, 36, 67, 49, 3, 7, 28, 15, 33, 40, 36, 37, 12, 11, 66, 19, 24, 7, 99, 4, 55, 13, 78, 43, 11, 43, 14, 75, 21, 96, 60, 61, 82, 94, 69, 98, 55, 49, 89, 81, 34, 18, 1, 95, 90, 95, 53, 81, 61, 3, 7, 78, 97, 65, 54, 59, 13, 16, 64, 59, 99, 63, 67, 98, 32, 8, 15, 23, 94, 92, 94, 92, 67, 85, 7, 16, 31, 23, 89, 42, 62, 99, 18, 13, 43, 55, 15, 61, 40, 77, 64, 97, 43, 65, 48, 86, 19, 56, 93, 65, 27, 96, 90, 89, 20, 58, 65, 20, 37, 13, 21, 7, 36, 82, 15, 93, 16, 59, 85, 78, 84, 33, 83, 88, 11, 18, 64, 71, 32, 17, 21, 30, 23, 91, 14, 88, 95, 22, 26, 1, 19, 99, 99, 34, 46, 57, 83, 10, 13, 71, 18, 30, 43, 35, 13, 74, 22, 23, 15, 22, 24, 90, 7, 7, 93, 3, 90, 88, 100, 66, 73, 64, 45, 58, 34, 36, 51, 78, 35, 70, 57, 29, 93, 54, 14, 28, 9, 14, 75, 28, 85, 58, 98, 12, 68, 34, 90, 72, 45, 92, 55, 59, 96, 20, 65, 48, 94, 30, 50, 94, 31, 16, 76, 83, 40, 100, 26, 47, 24, 7, 25, 67, 50, 47, 97, 79, 88, 60, 55, 34, 50, 21, 13, 59, 86, 20, 73, 37, 98, 2, 34, 91, 18, 62, 69, 61, 35, 11, 20, 56, 59, 47, 44, 93, 97, 33, 79, 82, 7, 38, 11, 99, 94, 8, 72, 1, 28, 99, 47, 47, 50, 57, 10, 14, 71, 35, 37, 31, 88, 44, 49, 14, 59, 29, 99, 77, 40, 66, 47, 67, 41, 92, 31, 77, 5, 92, 32, 88, 35, 81, 85, 31, 6, 91, 51, 54, 23, 94, 88, 48, 46, 27, 5, 14, 78, 26, 74, 3, 6, 1, 63, 77, 32, 49, 93, 16, 93, 54, 36, 46, 14, 38, 82, 63, 87, 90, 72, 66, 80, 97, 20, 86, 86, 64, 30, 59, 41, 54, 94, 76, 48, 48, 89, 11, 99, 53, 89, 87, 43, 85, 7, 83, 61, 95, 41, 48, 85, 5, 38, 80, 20, 31, 74, 64, 99, 35, 47, 70, 92, 61, 2, 96, 38, 35, 19, 43, 94, 1, 1, 12, 6, 62, 33, 36, 47, 76, 70, 28, 15, 72, 67, 66, 0, 52, 48, 7, 57, 68, 24, 93, 72, 60, 27, 74, 5, 19, 65, 94, 66, 57, 85, 98, 96, 33, 28, 32, 13, 69, 37, 51, 23, 5, 54, 90, 39, 91, 14, 58, 99, 52, 71, 43, 42, 76, 42, 65, 57, 77, 51, 1, 17, 2, 64, 52, 81, 75, 86, 67, 11, 85, 77, 38, 89, 65, 31, 68, 96, 82, 49, 37, 43, 56, 72, 37, 10, 14, 48, 37, 40, 52, 87, 13, 87, 24, 32, 53, 56, 6, 15, 50, 16, 47, 86, 28, 8, 86, 58, 78, 100, 72, 91, 53, 47, 24, 71, 88, 80]\n"
     ]
    }
   ],
   "source": [
    "import random\n",
    "list1 = []\n",
    "for i in range(1000):\n",
    "    list1.append(random.randint(0,100))\n",
    "print(list1)"
   ]
  },
  {
   "cell_type": "code",
   "execution_count": 22,
   "id": "eec473c4",
   "metadata": {},
   "outputs": [
    {
     "name": "stdout",
     "output_type": "stream",
     "text": [
      "[ 50  51  11  45  29  49   8  76  29  85  58  51   0  99  77  69  92  13\n",
      "  20  20  20  88  99 100  98  11  93   6  24  30  91 100  67  85  92  70\n",
      "  65   0  73   9  93  50  58  91  67  31  42  30  22  65  56  54  81  58\n",
      "  82  61  79  71  26  49  27  12  89  41  26  73  44  49  96  91  31  61\n",
      " 100  81  41  68  30  91  95   3   1  79  17  55  98  92  84   7  66  60\n",
      " 100  20  92  71  20  26  94  93  90  98   4  28  45  46  10  38  24  92\n",
      "  33  61  52  51  60  97  10  40  94  84   5  83  93  39  22  71 100  82\n",
      "  99  81   8  30  12   6 100  90  30  87  58  60  20  89  79  64  48  30\n",
      "  75  44  94  21  22   1  27  28  55  40  62  72  74  22  68  71  43   8\n",
      "  93  72  50  47  39  86  52  60  16  53  61   2  79  53  29  13  39   7\n",
      "  92  20  62  32  16  50  18  46  57  51  57  43  55  68  58  80  51  12\n",
      "  63  85  61   4  90  31  82   9   9  94  51  42  27  22  20  11  54  50\n",
      "  81  92  46  52  79  26  35   5  65   4  93   4  45  33  24  72   8  81\n",
      "  32  95   4  70  31  21  68  19 100   9  71  22  21  85  23  38  44  67\n",
      "  94  80  11  54  54  77  19  50  65  73  11  42  71  69  17  64  71  24\n",
      "   4  39  26  31   2  30   2  46  65  59  11  86  47  99  79  66  83  90\n",
      "  21  93  52  96  98  94  64  12  67   2  88  85  54  57  69  12  94  71\n",
      "   5  27   9  85  20  28  91  78  71   1  37  81  91  28  82  31  24  38\n",
      "  62   4  65  43  70  88   4  44   0  18  13  35  65  12  58  35  77  60\n",
      "  73  34  14  23  71  19  57  76  25  96  40  95  16  67  76  98  78  20\n",
      "  27  39  18  98  15  86  46  13  17  25  90   8  20  68   3  93  47  26\n",
      "  27  84  67  30   2  61  28  18  90  33  20  81  99  69  87  51  36  12\n",
      "  22  53  24  84   3  22  99  17  84  36  88  55   7  88  22  75  60  52\n",
      "  45  27  72  21  23  22  53  38  67  65  85  59  46  72  14  72  66  49\n",
      "  55  88   6  13  58  75  49  15   0  27  19  16  11  49  76 100  88  28\n",
      "  37  63  72  52  54  35  44  41  80  92  27  40  99  71  24  75  68  83\n",
      "  79  11   3  39  31  65  75  32  97  98  89  78  16  13  95  82   0   4\n",
      "  20  16  25   5  67  19  96  66  36  67  49   3   7  28  15  33  40  36\n",
      "  37  12  11  66  19  24   7  99   4  55  13  78  43  11  43  14  75  21\n",
      "  96  60  61  82  94  69  98  55  49  89  81  34  18   1  95  90  95  53\n",
      "  81  61   3   7  78  97  65  54  59  13  16  64  59  99  63  67  98  32\n",
      "   8  15  23  94  92  94  92  67  85   7  16  31  23  89  42  62  99  18\n",
      "  13  43  55  15  61  40  77  64  97  43  65  48  86  19  56  93  65  27\n",
      "  96  90  89  20  58  65  20  37  13  21   7  36  82  15  93  16  59  85\n",
      "  78  84  33  83  88  11  18  64  71  32  17  21  30  23  91  14  88  95\n",
      "  22  26   1  19  99  99  34  46  57  83  10  13  71  18  30  43  35  13\n",
      "  74  22  23  15  22  24  90   7   7  93   3  90  88 100  66  73  64  45\n",
      "  58  34  36  51  78  35  70  57  29  93  54  14  28   9  14  75  28  85\n",
      "  58  98  12  68  34  90  72  45  92  55  59  96  20  65  48  94  30  50\n",
      "  94  31  16  76  83  40 100  26  47  24   7  25  67  50  47  97  79  88\n",
      "  60  55  34  50  21  13  59  86  20  73  37  98   2  34  91  18  62  69\n",
      "  61  35  11  20  56  59  47  44  93  97  33  79  82   7  38  11  99  94\n",
      "   8  72   1  28  99  47  47  50  57  10  14  71  35  37  31  88  44  49\n",
      "  14  59  29  99  77  40  66  47  67  41  92  31  77   5  92  32  88  35\n",
      "  81  85  31   6  91  51  54  23  94  88  48  46  27   5  14  78  26  74\n",
      "   3   6   1  63  77  32  49  93  16  93  54  36  46  14  38  82  63  87\n",
      "  90  72  66  80  97  20  86  86  64  30  59  41  54  94  76  48  48  89\n",
      "  11  99  53  89  87  43  85   7  83  61  95  41  48  85   5  38  80  20\n",
      "  31  74  64  99  35  47  70  92  61   2  96  38  35  19  43  94   1   1\n",
      "  12   6  62  33  36  47  76  70  28  15  72  67  66   0  52  48   7  57\n",
      "  68  24  93  72  60  27  74   5  19  65  94  66  57  85  98  96  33  28\n",
      "  32  13  69  37  51  23   5  54  90  39  91  14  58  99  52  71  43  42\n",
      "  76  42  65  57  77  51   1  17   2  64  52  81  75  86  67  11  85  77\n",
      "  38  89  65  31  68  96  82  49  37  43  56  72  37  10  14  48  37  40\n",
      "  52  87  13  87  24  32  53  56   6  15  50  16  47  86  28   8  86  58\n",
      "  78 100  72  91  53  47  24  71  88  80]\n"
     ]
    }
   ],
   "source": [
    "import numpy as np\n",
    "vector1 = np.array(list1)\n",
    "print(vector1)"
   ]
  },
  {
   "cell_type": "code",
   "execution_count": 38,
   "id": "4f514243",
   "metadata": {},
   "outputs": [
    {
     "data": {
      "image/png": "[encoded data removed]",
      "text/plain": [
       "<Figure size 432x288 with 1 Axes>"
      ]
     },
     "metadata": {
      "needs_background": "light"
     },
     "output_type": "display_data"
    }
   ],
   "source": [
    "import matplotlib.pyplot as plt\n",
    "vector2 = np.random.normal(0, 1, 1000)\n",
    "\n",
    "plt.hist(vector2, bins = 30)\n",
    "plt.show()"
   ]
  },
  {
   "cell_type": "code",
   "execution_count": 43,
   "id": "b803779c",
   "metadata": {},
   "outputs": [],
   "source": [
    "vector1_noise = np.add(vector1, vector2)"
   ]
  },
  {
   "cell_type": "code",
   "execution_count": 48,
   "id": "aac7e647",
   "metadata": {},
   "outputs": [
    {
     "name": "stdout",
     "output_type": "stream",
     "text": [
      "RMSE =  1.026341702158722\n",
      "MAE =  0.8172681932250568\n"
     ]
    }
   ],
   "source": [
    "import numpy as np\n",
    "from sklearn.metrics import mean_squared_error, mean_absolute_error\n",
    "\n",
    "print('RMSE = ', np.sqrt(mean_squared_error(vector1_noise, vector1)))\n",
    "print('MAE = ', mean_absolute_error(vector1_noise, vector1))"
   ]
  },
  {
   "cell_type": "code",
   "execution_count": 62,
   "id": "7116c1ae",
   "metadata": {},
   "outputs": [
    {
     "name": "stdout",
     "output_type": "stream",
     "text": [
      "RMSE =  20.0959940016597\n",
      "MAE =  16.005491953844633\n"
     ]
    }
   ],
   "source": [
    "import numpy as np\n",
    "from sklearn.metrics import mean_squared_error, mean_absolute_error\n",
    "\n",
    "vector_errors1 = np.random.normal(1, 20, 1000)\n",
    "vector1_noise = np.add(vector1, vector_errors1)\n",
    "\n",
    "print('RMSE = ', np.sqrt(mean_squared_error(vector1_noise, vector1)))\n",
    "print('MAE = ', mean_absolute_error(vector1_noise, vector1))"
   ]
  },
  {
   "cell_type": "code",
   "execution_count": 63,
   "id": "bea6e7f4",
   "metadata": {},
   "outputs": [
    {
     "name": "stdout",
     "output_type": "stream",
     "text": [
      "RMSE =  10.079055553509042\n",
      "MAE =  10.02798962776987\n"
     ]
    }
   ],
   "source": [
    "import numpy as np\n",
    "from sklearn.metrics import mean_squared_error, mean_absolute_error\n",
    "\n",
    "vector_errors1 = np.random.normal(10, 1, 1000)\n",
    "vector1_noise = np.add(vector1, vector_errors1)\n",
    "\n",
    "print('RMSE = ', np.sqrt(mean_squared_error(vector1_noise, vector1)))\n",
    "print('MAE = ', mean_absolute_error(vector1_noise, vector1))"
   ]
  },
  {
   "cell_type": "code",
   "execution_count": 61,
   "id": "87cb3226",
   "metadata": {},
   "outputs": [
    {
     "name": "stdout",
     "output_type": "stream",
     "text": [
      "RMSE =  14.002627131421486\n",
      "MAE =  11.397215829915757\n"
     ]
    }
   ],
   "source": [
    "import numpy as np\n",
    "from sklearn.metrics import mean_squared_error, mean_absolute_error\n",
    "\n",
    "vector_errors1 = np.random.normal(10, 10, 1000)\n",
    "vector1_noise = np.add(vector1, vector_errors1)\n",
    "\n",
    "print('RMSE = ', np.sqrt(mean_squared_error(vector1_noise, vector1)))\n",
    "print('MAE = ', mean_absolute_error(vector1_noise, vector1))"
   ]
  },
  {
   "cell_type": "code",
   "execution_count": null,
   "id": "86b2fce7",
   "metadata": {},
   "outputs": [],
   "source": []
  }
 ],
 "metadata": {
  "kernelspec": {
   "display_name": "Python 3 (ipykernel)",
   "language": "python",
   "name": "python3"
  },
  "language_info": {
   "codemirror_mode": {
    "name": "ipython",
    "version": 3
   },
   "file_extension": ".py",
   "mimetype": "text/x-python",
   "name": "python",
   "nbconvert_exporter": "python",
   "pygments_lexer": "ipython3",
   "version": "3.8.8"
  }
 },
 "nbformat": 4,
 "nbformat_minor": 5
}
