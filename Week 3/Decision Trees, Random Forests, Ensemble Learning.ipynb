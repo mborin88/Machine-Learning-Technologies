{
 "cells": [
  {
   "cell_type": "code",
   "execution_count": 1,
   "id": "88e2c37a",
   "metadata": {},
   "outputs": [],
   "source": [
    "%matplotlib inline\n",
    "\n",
    "    \n",
    "import numpy as np\n",
    "\n",
    "np.random.seed(42) # to ensure our results exactly like the book"
   ]
  },
  {
   "cell_type": "code",
   "execution_count": 40,
   "id": "cd04a448",
   "metadata": {},
   "outputs": [
    {
     "name": "stdout",
     "output_type": "stream",
     "text": [
      ".. _iris_dataset:\n",
      "\n",
      "Iris plants dataset\n",
      "--------------------\n",
      "\n",
      "**Data Set Characteristics:**\n",
      "\n",
      "    :Number of Instances: 150 (50 in each of three classes)\n",
      "    :Number of Attributes: 4 numeric, predictive attributes and the class\n",
      "    :Attribute Information:\n",
      "        - sepal length in cm\n",
      "        - sepal width in cm\n",
      "        - petal length in cm\n",
      "        - petal width in cm\n",
      "        - class:\n",
      "                - Iris-Setosa\n",
      "                - Iris-Versicolour\n",
      "                - Iris-Virginica\n",
      "                \n",
      "    :Summary Statistics:\n",
      "\n",
      "    ============== ==== ==== ======= ===== ====================\n",
      "                    Min  Max   Mean    SD   Class Correlation\n",
      "    ============== ==== ==== ======= ===== ====================\n",
      "    sepal length:   4.3  7.9   5.84   0.83    0.7826\n",
      "    sepal width:    2.0  4.4   3.05   0.43   -0.4194\n",
      "    petal length:   1.0  6.9   3.76   1.76    0.9490  (high!)\n",
      "    petal width:    0.1  2.5   1.20   0.76    0.9565  (high!)\n",
      "    ============== ==== ==== ======= ===== ====================\n",
      "\n",
      "    :Missing Attribute Values: None\n",
      "    :Class Distribution: 33.3% for each of 3 classes.\n",
      "    :Creator: R.A. Fisher\n",
      "    :Donor: Michael Marshall (MARSHALL%PLU@io.arc.nasa.gov)\n",
      "    :Date: July, 1988\n",
      "\n",
      "The famous Iris database, first used by Sir R.A. Fisher. The dataset is taken\n",
      "from Fisher's paper. Note that it's the same as in R, but not as in the UCI\n",
      "Machine Learning Repository, which has two wrong data points.\n",
      "\n",
      "This is perhaps the best known database to be found in the\n",
      "pattern recognition literature.  Fisher's paper is a classic in the field and\n",
      "is referenced frequently to this day.  (See Duda & Hart, for example.)  The\n",
      "data set contains 3 classes of 50 instances each, where each class refers to a\n",
      "type of iris plant.  One class is linearly separable from the other 2; the\n",
      "latter are NOT linearly separable from each other.\n",
      "\n",
      ".. topic:: References\n",
      "\n",
      "   - Fisher, R.A. \"The use of multiple measurements in taxonomic problems\"\n",
      "     Annual Eugenics, 7, Part II, 179-188 (1936); also in \"Contributions to\n",
      "     Mathematical Statistics\" (John Wiley, NY, 1950).\n",
      "   - Duda, R.O., & Hart, P.E. (1973) Pattern Classification and Scene Analysis.\n",
      "     (Q327.D83) John Wiley & Sons.  ISBN 0-471-22361-1.  See page 218.\n",
      "   - Dasarathy, B.V. (1980) \"Nosing Around the Neighborhood: A New System\n",
      "     Structure and Classification Rule for Recognition in Partially Exposed\n",
      "     Environments\".  IEEE Transactions on Pattern Analysis and Machine\n",
      "     Intelligence, Vol. PAMI-2, No. 1, 67-71.\n",
      "   - Gates, G.W. (1972) \"The Reduced Nearest Neighbor Rule\".  IEEE Transactions\n",
      "     on Information Theory, May 1972, 431-433.\n",
      "   - See also: 1988 MLC Proceedings, 54-64.  Cheeseman et al\"s AUTOCLASS II\n",
      "     conceptual clustering system finds 3 classes in the data.\n",
      "   - Many, many more ...\n",
      "\n",
      "\n",
      "data\n",
      "target\n",
      "frame\n",
      "target_names\n",
      "DESCR\n",
      "feature_names\n",
      "filename\n"
     ]
    }
   ],
   "source": [
    "from sklearn.datasets import load_iris\n",
    "from sklearn.tree import DecisionTreeClassifier\n",
    "\n",
    "iris = load_iris()\n",
    "print(iris.DESCR)\n",
    "print(\"\\n\")\n",
    "for i in iris:\n",
    "    print(i)"
   ]
  },
  {
   "cell_type": "code",
   "execution_count": 42,
   "id": "ab533fe7",
   "metadata": {},
   "outputs": [
    {
     "name": "stdout",
     "output_type": "stream",
     "text": [
      "given: ['petal length (cm)', 'petal width (cm)'] \n",
      "predict whether: ['setosa' 'versicolor' 'virginica']\n",
      "[0 0 0 0 0 0 0 0 0 0 0 0 0 0 0 0 0 0 0 0 0 0 0 0 0 0 0 0 0 0 0 0 0 0 0 0 0\n",
      " 0 0 0 0 0 0 0 0 0 0 0 0 0 1 1 1 1 1 1 1 1 1 1 1 1 1 1 1 1 1 1 1 1 1 1 1 1\n",
      " 1 1 1 1 1 1 1 1 1 1 1 1 1 1 1 1 1 1 1 1 1 1 1 1 1 1 2 2 2 2 2 2 2 2 2 2 2\n",
      " 2 2 2 2 2 2 2 2 2 2 2 2 2 2 2 2 2 2 2 2 2 2 2 2 2 2 2 2 2 2 2 2 2 2 2 2 2\n",
      " 2 2]\n"
     ]
    }
   ],
   "source": [
    "X = iris.data[:, 2:] # only focus on petal length and width\n",
    "Y = iris.target\n",
    "feature_names = iris.feature_names[2:]\n",
    "print(\"given:\",feature_names, \n",
    "      \"\\npredict whether:\", iris.target_names)"
   ]
  },
  {
   "cell_type": "code",
   "execution_count": 7,
   "id": "ca524181",
   "metadata": {},
   "outputs": [
    {
     "data": {
      "text/plain": [
       "[<matplotlib.lines.Line2D at 0x273018fad00>,\n",
       " <matplotlib.lines.Line2D at 0x273018fac70>]"
      ]
     },
     "execution_count": 7,
     "metadata": {},
     "output_type": "execute_result"
    },
    {
     "data": {
      "image/png": "[encoded data removed]",
      "text/plain": [
       "<Figure size 432x288 with 1 Axes>"
      ]
     },
     "metadata": {
      "needs_background": "light"
     },
     "output_type": "display_data"
    }
   ],
   "source": [
    "import matplotlib.pyplot as plt\n",
    "\n",
    "plt.figure()\n",
    "plt.plot(X, Y, \"*\")"
   ]
  },
  {
   "cell_type": "code",
   "execution_count": 16,
   "id": "1a2480ad",
   "metadata": {},
   "outputs": [
    {
     "data": {
      "text/plain": [
       "DecisionTreeClassifier(max_depth=2)"
      ]
     },
     "execution_count": 16,
     "metadata": {},
     "output_type": "execute_result"
    }
   ],
   "source": [
    "tree_clf = DecisionTreeClassifier(max_depth=2)\n",
    "tree_clf.fit(X,Y)"
   ]
  },
  {
   "cell_type": "code",
   "execution_count": 17,
   "id": "869a45c4",
   "metadata": {},
   "outputs": [],
   "source": [
    "from sklearn.tree import export_graphviz\n",
    "export_graphviz(tree_clf,\n",
    "                out_file=\"iris_tree.dot\",\n",
    "                feature_names=feature_names,\n",
    "                class_names=iris.target_names,\n",
    "                rounded=True,\n",
    "                filled=True\n",
    "               )"
   ]
  },
  {
   "cell_type": "code",
   "execution_count": 18,
   "id": "fc05be8b",
   "metadata": {},
   "outputs": [
    {
     "data": {
      "image/png": "[encoded data removed]",
      "text/plain": [
       "<Figure size 432x288 with 1 Axes>"
      ]
     },
     "metadata": {
      "needs_background": "light"
     },
     "output_type": "display_data"
    }
   ],
   "source": [
    "import matplotlib.pyplot as plt\n",
    "from matplotlib.colors import ListedColormap\n",
    "CUSTOM_CMAP = ListedColormap(['#fafab0','#9898ff','#a0faa0'])\n",
    " \n",
    "# helper function to plot the boundaries\n",
    "def plot_decision_boundary(clf, x, y):\n",
    "    color_map = [\"yo\", \"bs\", \"g^\"]\n",
    "    for target_index, target_name in enumerate(iris.target_names):\n",
    "        plt.plot(x[:, 0][y==target_index], # petal length on X axis (the ones that equal to target)\n",
    "                 x[:, 1][y==target_index], # petal width on Y axis (the ones that equal to target)\n",
    "                 color_map[target_index], \n",
    "                 label=target_name)\n",
    "        \n",
    "    x1s = np.linspace(np.min(x[:, 0]), np.max(x[:, 0]), 100)\n",
    "    x2s = np.linspace(np.min(x[:, 1]), np.max(x[:, 1]), 100)\n",
    "    x1, x2 = np.meshgrid(x1s, x2s)\n",
    "    x_test = np.c_[x1.ravel(), x2.ravel()]\n",
    "    y_pred = clf.predict(x_test).reshape(x1.shape)\n",
    "    plt.contourf(x1, x2, y_pred, alpha=0.3, cmap=CUSTOM_CMAP)\n",
    "\n",
    "plot_decision_boundary(tree_clf, X, Y)\n",
    "\n",
    "plt.xlabel(feature_names[0]) # petal length (cm)\n",
    "plt.ylabel(feature_names[1]) # petal width (cm)\n",
    "plt.show()"
   ]
  },
  {
   "cell_type": "code",
   "execution_count": 19,
   "id": "12f42625",
   "metadata": {},
   "outputs": [
    {
     "data": {
      "text/plain": [
       "array([[ 0, -5],\n",
       "       [ 0, -4],\n",
       "       [ 0, -3],\n",
       "       [ 0, -2],\n",
       "       [ 0, -1],\n",
       "       [ 1, -5],\n",
       "       [ 1, -4],\n",
       "       [ 1, -3],\n",
       "       [ 1, -2],\n",
       "       [ 1, -1],\n",
       "       [ 2, -5],\n",
       "       [ 2, -4],\n",
       "       [ 2, -3],\n",
       "       [ 2, -2],\n",
       "       [ 2, -1],\n",
       "       [ 3, -5],\n",
       "       [ 3, -4],\n",
       "       [ 3, -3],\n",
       "       [ 3, -2],\n",
       "       [ 3, -1],\n",
       "       [ 4, -5],\n",
       "       [ 4, -4],\n",
       "       [ 4, -3],\n",
       "       [ 4, -2],\n",
       "       [ 4, -1],\n",
       "       [ 5, -5],\n",
       "       [ 5, -4],\n",
       "       [ 5, -3],\n",
       "       [ 5, -2],\n",
       "       [ 5, -1],\n",
       "       [ 6, -5],\n",
       "       [ 6, -4],\n",
       "       [ 6, -3],\n",
       "       [ 6, -2],\n",
       "       [ 6, -1],\n",
       "       [ 7, -5],\n",
       "       [ 7, -4],\n",
       "       [ 7, -3],\n",
       "       [ 7, -2],\n",
       "       [ 7, -1],\n",
       "       [ 8, -5],\n",
       "       [ 8, -4],\n",
       "       [ 8, -3],\n",
       "       [ 8, -2],\n",
       "       [ 8, -1],\n",
       "       [ 9, -5],\n",
       "       [ 9, -4],\n",
       "       [ 9, -3],\n",
       "       [ 9, -2],\n",
       "       [ 9, -1]])"
      ]
     },
     "execution_count": 19,
     "metadata": {},
     "output_type": "execute_result"
    }
   ],
   "source": [
    "# check np.mgrid[minX1:maxX1:increment, minX2:maxX2:increment]\n",
    "X = np.mgrid[0:10:1, -5:0:1].reshape(2,-1).T\n",
    "X"
   ]
  },
  {
   "cell_type": "code",
   "execution_count": 20,
   "id": "899af768",
   "metadata": {},
   "outputs": [
    {
     "data": {
      "text/plain": [
       "array([[0.        , 0.90740741, 0.09259259]])"
      ]
     },
     "execution_count": 20,
     "metadata": {},
     "output_type": "execute_result"
    }
   ],
   "source": [
    "tree_clf.predict_proba([[5, 1.5]])"
   ]
  },
  {
   "cell_type": "code",
   "execution_count": 21,
   "id": "e43acd17",
   "metadata": {},
   "outputs": [
    {
     "data": {
      "text/plain": [
       "array([1])"
      ]
     },
     "execution_count": 21,
     "metadata": {},
     "output_type": "execute_result"
    }
   ],
   "source": [
    "tree_clf.predict([[5, 1.5]])"
   ]
  },
  {
   "cell_type": "code",
   "execution_count": 22,
   "id": "34fca94a",
   "metadata": {},
   "outputs": [
    {
     "data": {
      "image/png": "[encoded data removed]",
      "text/plain": [
       "<Figure size 792x288 with 2 Axes>"
      ]
     },
     "metadata": {
      "needs_background": "light"
     },
     "output_type": "display_data"
    }
   ],
   "source": [
    "from sklearn.datasets import make_moons\n",
    "Xm, ym = make_moons(n_samples=100, noise=0.25, random_state=53)\n",
    "\n",
    "deep_tree_clf1 = DecisionTreeClassifier(random_state=42)\n",
    "deep_tree_clf2 = DecisionTreeClassifier(min_samples_leaf=4, random_state=42)\n",
    "deep_tree_clf1.fit(Xm, ym)\n",
    "deep_tree_clf2.fit(Xm, ym)\n",
    "\n",
    "plt.figure(figsize=(11, 4))\n",
    "plt.subplot(121)\n",
    "\n",
    "plt.xlabel(r\"$x_1$\", fontsize=18)\n",
    "plt.ylabel(r\"$x_2$\", fontsize=18, rotation=0)\n",
    "plot_decision_boundary(deep_tree_clf1, Xm, ym)\n",
    "plt.title(\"No restrictions\", fontsize=16)\n",
    "plt.subplot(122)\n",
    "\n",
    "plt.xlabel(r\"$x_1$\", fontsize=18)\n",
    "plt.ylabel(r\"$x_2$\", fontsize=18, rotation=0)\n",
    "plot_decision_boundary(deep_tree_clf2, Xm, ym)\n",
    "plt.title(\"min_samples_leaf = {}\".format(deep_tree_clf2.min_samples_leaf), fontsize=14)\n",
    "\n",
    "\n",
    "plt.show()"
   ]
  },
  {
   "cell_type": "code",
   "execution_count": 23,
   "id": "676a490c",
   "metadata": {},
   "outputs": [
    {
     "data": {
      "image/png": "[encoded data removed]",
      "text/plain": [
       "<Figure size 432x288 with 1 Axes>"
      ]
     },
     "metadata": {
      "needs_background": "light"
     },
     "output_type": "display_data"
    }
   ],
   "source": [
    "# Quadratic training set + noise\n",
    "np.random.seed(42)\n",
    "m = 200\n",
    "X = np.random.rand(m, 1)\n",
    "y = 4 * (X - 0.5) ** 2\n",
    "Y = y + np.random.randn(m, 1) / 10\n",
    "\n",
    "plt.plot(X, Y, \"bo\")\n",
    "plt.xlabel(\"$x_{1}$\", fontsize=18)\n",
    "plt.ylabel(\"$y$\", fontsize=18, rotation=0)\n",
    "plt.show()"
   ]
  },
  {
   "cell_type": "code",
   "execution_count": 24,
   "id": "c8589c26",
   "metadata": {},
   "outputs": [
    {
     "data": {
      "text/plain": [
       "DecisionTreeRegressor(max_depth=2)"
      ]
     },
     "execution_count": 24,
     "metadata": {},
     "output_type": "execute_result"
    }
   ],
   "source": [
    "from sklearn.tree import DecisionTreeRegressor\n",
    "tree_reg = DecisionTreeRegressor(max_depth=2)\n",
    "tree_reg.fit(X,Y)"
   ]
  },
  {
   "cell_type": "code",
   "execution_count": 25,
   "id": "87439d16",
   "metadata": {},
   "outputs": [],
   "source": [
    "from sklearn.model_selection import train_test_split\n",
    "from sklearn.datasets import make_moons\n",
    "\n",
    "X, Y = make_moons(n_samples=500, noise=0.30, random_state=42)\n",
    "X_train, X_test, Y_train, Y_test = train_test_split(X, Y, random_state=42)"
   ]
  },
  {
   "cell_type": "code",
   "execution_count": 26,
   "id": "54ffcf7b",
   "metadata": {},
   "outputs": [],
   "source": [
    "from sklearn.metrics import accuracy_score\n",
    "def test_clfs(*clfs): # clf -> classifier\n",
    "    for clf in clfs:\n",
    "        clf.fit(X_train, Y_train) # train the classifier\n",
    "        Y_pred = clf.predict(X_test)\n",
    "        print(clf.__class__.__name__ + \":\", accuracy_score(Y_test, Y_pred))"
   ]
  },
  {
   "cell_type": "code",
   "execution_count": 27,
   "id": "fe17bbe6",
   "metadata": {},
   "outputs": [
    {
     "name": "stdout",
     "output_type": "stream",
     "text": [
      "LogisticRegression: 0.864\n",
      "RandomForestClassifier: 0.896\n",
      "SVC: 0.896\n",
      "VotingClassifier: 0.912\n"
     ]
    }
   ],
   "source": [
    "from sklearn.ensemble import RandomForestClassifier\n",
    "from sklearn.ensemble import VotingClassifier\n",
    "from sklearn.linear_model import LogisticRegression\n",
    "from sklearn.svm import SVC\n",
    "\n",
    "# Don't worry about the warnings, \n",
    "# sci-kit community will be fixing it in the next major version 0.20.0 \n",
    "    \n",
    "log_clf = LogisticRegression(random_state=42)\n",
    "rnd_clf = RandomForestClassifier(random_state=42)\n",
    "svm_clf = SVC(random_state=42, probability=True)\n",
    "\n",
    "voting_clf = VotingClassifier(estimators=[('lr', log_clf), \n",
    "                                          ('rf', rnd_clf), \n",
    "                                          ('svc', svm_clf)],\n",
    "                              voting='hard')\n",
    "test_clfs(log_clf, rnd_clf, svm_clf, voting_clf)"
   ]
  },
  {
   "cell_type": "code",
   "execution_count": 28,
   "id": "92a6a943",
   "metadata": {},
   "outputs": [
    {
     "name": "stdout",
     "output_type": "stream",
     "text": [
      "Bagging Classifier\n",
      "0.904\n",
      "Decision Tree Classifier\n",
      "0.856\n"
     ]
    },
    {
     "data": {
      "image/png": "[encoded data removed]",
      "text/plain": [
       "<Figure size 792x288 with 2 Axes>"
      ]
     },
     "metadata": {
      "needs_background": "light"
     },
     "output_type": "display_data"
    }
   ],
   "source": [
    "from sklearn.ensemble import BaggingClassifier\n",
    "from sklearn.tree import DecisionTreeClassifier\n",
    "\n",
    "# define our decision tree classifier\n",
    "tree_clf = DecisionTreeClassifier(random_state=42)\n",
    "# 500 copies of the predictor, which has 100 samples from training set\n",
    "# n_jobs=-1 for utilizing all cores \n",
    "bag_clf = BaggingClassifier(tree_clf, \n",
    "                            n_estimators=500, \n",
    "                            max_samples=100, \n",
    "                            bootstrap=True, \n",
    "                            n_jobs=-1, \n",
    "                            random_state=42)\n",
    "\n",
    "# fit the bagging classifier\n",
    "bag_clf.fit(X_train, Y_train)\n",
    "tree_clf.fit(X_train, Y_train)\n",
    "\n",
    "Y_pred_bag = bag_clf.predict(X_test)\n",
    "Y_pred_tree = tree_clf.predict(X_test)\n",
    "\n",
    "from sklearn.metrics import accuracy_score\n",
    "print(\"Bagging Classifier\")\n",
    "print(accuracy_score(Y_test, Y_pred_bag))\n",
    "print(\"Decision Tree Classifier\")\n",
    "print(accuracy_score(Y_test, Y_pred_tree))\n",
    "\n",
    "plt.figure(figsize=(11,4))\n",
    "plt.subplot(121)\n",
    "plot_decision_boundary(tree_clf, X, Y)\n",
    "plt.title(\"Decision Tree\", fontsize=14)\n",
    "plt.subplot(122)\n",
    "plot_decision_boundary(bag_clf, X, Y)\n",
    "plt.title(\"Decision Trees with Bagging\", fontsize=14)\n",
    "plt.show()"
   ]
  },
  {
   "cell_type": "code",
   "execution_count": 53,
   "id": "6e90b86d",
   "metadata": {},
   "outputs": [
    {
     "data": {
      "text/plain": [
       "Text(0, 0.5, 'Petal Width')"
      ]
     },
     "execution_count": 53,
     "metadata": {},
     "output_type": "execute_result"
    },
    {
     "data": {
      "image/png": "[encoded data removed]",
      "text/plain": [
       "<Figure size 432x288 with 1 Axes>"
      ]
     },
     "metadata": {
      "needs_background": "light"
     },
     "output_type": "display_data"
    }
   ],
   "source": [
    "import matplotlib.pyplot as plt\n",
    "X = iris.data[:, 2:]\n",
    "plt.figure()\n",
    "plt.scatter(X[:, 0], X[:, 1], c=Y)\n",
    "plt.xlabel(\"Petal Length\")\n",
    "plt.ylabel(\"Petal Width\")"
   ]
  },
  {
   "cell_type": "code",
   "execution_count": null,
   "id": "a41ff3d4",
   "metadata": {},
   "outputs": [],
   "source": []
  }
 ],
 "metadata": {
  "kernelspec": {
   "display_name": "Python 3 (ipykernel)",
   "language": "python",
   "name": "python3"
  },
  "language_info": {
   "codemirror_mode": {
    "name": "ipython",
    "version": 3
   },
   "file_extension": ".py",
   "mimetype": "text/x-python",
   "name": "python",
   "nbconvert_exporter": "python",
   "pygments_lexer": "ipython3",
   "version": "3.8.8"
  }
 },
 "nbformat": 4,
 "nbformat_minor": 5
}
