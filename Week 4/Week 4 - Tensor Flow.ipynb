{
 "cells": [
  {
   "cell_type": "code",
   "execution_count": 2,
   "id": "a44a78e9",
   "metadata": {},
   "outputs": [
    {
     "name": "stdout",
     "output_type": "stream",
     "text": [
      "26.0\n"
     ]
    }
   ],
   "source": [
    "# These two lines are required to use Tensorflow 1\n",
    "import tensorflow.compat.v1 as tf\n",
    "tf.disable_v2_behavior()\n",
    "\n",
    "x = tf.Variable(-2, dtype=tf.float32, name=\"x\")\n",
    "y = tf.Variable(5.0, dtype=tf.float32, name=\"y\")\n",
    "z = tf.Variable(1.2, dtype=tf.float32, name=\"z\")\n",
    "g = x**3 + y**2 + y*z + 3\n",
    "\n",
    "session = tf.Session()\n",
    "session.run(x.initializer)\n",
    "session.run(y.initializer)\n",
    "session.run(z.initializer)\n",
    "result = session.run(g)\n",
    "session.close()\n",
    "\n",
    "print(result)"
   ]
  },
  {
   "cell_type": "code",
   "execution_count": 4,
   "id": "2641c3bd",
   "metadata": {},
   "outputs": [
    {
     "name": "stdout",
     "output_type": "stream",
     "text": [
      "(14, 1)\n",
      "[[ 3.64556160e+01]\n",
      " [-1.08021215e-01]\n",
      " [ 4.64181416e-02]\n",
      " [ 2.05375999e-02]\n",
      " [ 2.68626499e+00]\n",
      " [-1.77639675e+01]\n",
      " [ 3.81015849e+00]\n",
      " [ 6.87354244e-04]\n",
      " [-1.47551477e+00]\n",
      " [ 3.06014746e-01]\n",
      " [-1.23324459e-02]\n",
      " [-9.52731073e-01]\n",
      " [ 9.31287464e-03]\n",
      " [-5.24735868e-01]]\n",
      "(506, 14)\n",
      "Tensor(\"y_3:0\", shape=(506, 1), dtype=float32)\n"
     ]
    }
   ],
   "source": [
    "import numpy as np\n",
    "from sklearn.datasets import load_boston\n",
    "\n",
    "# load the dataset\n",
    "boston = load_boston()\n",
    "m, n = boston.data.shape\n",
    "\n",
    "boston_features = np.c_[np.ones((m,1)), boston.data]\n",
    "\n",
    "# define the pseudo-inverse equation in tensorflow\n",
    "X = tf.constant(boston_features, dtype=tf.float32, name=\"X\")\n",
    "y = tf.constant(boston.target.reshape(-1, 1), dtype=tf.float32, name=\"y\")\n",
    "Xt = tf.transpose(X)\n",
    "w = tf.matmul(tf.matmul(tf.matrix_inverse(tf.matmul(Xt, X)), Xt), y)\n",
    "\n",
    "# run the computation\n",
    "with tf.Session() as sess:\n",
    "    weights = w.eval()\n",
    "\n",
    "print(weights.shape)\n",
    "print(weights)\n",
    "print(X.shape)\n",
    "print(y)"
   ]
  },
  {
   "cell_type": "code",
   "execution_count": 6,
   "id": "3b48883e",
   "metadata": {},
   "outputs": [
    {
     "name": "stdout",
     "output_type": "stream",
     "text": [
      "4.6791916\n"
     ]
    }
   ],
   "source": [
    "y_pred = tf.matmul(X, weights)\n",
    "sq_error = tf.squared_difference(y_pred, y)\n",
    "#y_pred_sum = tf.reduce_sum(y_pred, 1)\n",
    "rmse = tf.math.sqrt(tf.reduce_mean(sq_error))\n",
    "with tf.Session() as sess:\n",
    "    RMSE = rmse.eval()\n",
    "\n",
    "print(RMSE)\n",
    "#tf.subtract(y, y_pred_sum)\n",
    "#session2 = tf.Session()\n",
    "#session2.close()"
   ]
  },
  {
   "cell_type": "code",
   "execution_count": 5,
   "id": "4a09b442",
   "metadata": {},
   "outputs": [
    {
     "name": "stdout",
     "output_type": "stream",
     "text": [
      "[ 7 52]\n"
     ]
    }
   ],
   "source": [
    "import sys\n",
    "x = tf.constant([[1, 2, 4], [10, 15, 27]])\n",
    "\n",
    "session2 = tf.Session()\n",
    "#session2.run(x)\n",
    "print(session2.run(tf.reduce_sum(x, 1)))\n",
    "session2.close()"
   ]
  },
  {
   "cell_type": "code",
   "execution_count": 10,
   "id": "956f065b",
   "metadata": {},
   "outputs": [
    {
     "name": "stdout",
     "output_type": "stream",
     "text": [
      "Tensor(\"Sqrt_4:0\", shape=(), dtype=float32)\n",
      "23.411118\n"
     ]
    }
   ],
   "source": [
    "y_pred_sum = tf.reduce_sum(y_pred, 1) #sum all the values\n",
    "train_rmse_1 = tf.sqrt(tf.reduce_mean((y_pred_sum - y)**2))\n",
    "print(train_rmse_1)\n",
    "session2 = tf.Session()\n",
    "print(session2.run(tf.sqrt(tf.reduce_mean((y_pred_sum - y)**2))))\n",
    "session2.close()"
   ]
  },
  {
   "cell_type": "code",
   "execution_count": 12,
   "id": "aa8e5639",
   "metadata": {},
   "outputs": [
    {
     "name": "stdout",
     "output_type": "stream",
     "text": [
      "Step 0 MSE = 312297.7\n",
      "Step 5000 MSE = nan\n",
      "Step 10000 MSE = nan\n",
      "Step 15000 MSE = nan\n",
      "Step 20000 MSE = nan\n",
      "Step 25000 MSE = nan\n",
      "Step 30000 MSE = nan\n",
      "Step 35000 MSE = nan\n",
      "Step 40000 MSE = nan\n",
      "Step 45000 MSE = nan\n",
      "Step 50000 MSE = nan\n",
      "Step 55000 MSE = nan\n",
      "Step 60000 MSE = nan\n",
      "Step 65000 MSE = nan\n",
      "Step 70000 MSE = nan\n",
      "Step 75000 MSE = nan\n",
      "Step 80000 MSE = nan\n",
      "Step 85000 MSE = nan\n",
      "Step 90000 MSE = nan\n",
      "Step 95000 MSE = nan\n",
      "Step 100000 MSE = nan\n",
      "Step 105000 MSE = nan\n",
      "Step 110000 MSE = nan\n",
      "Step 115000 MSE = nan\n",
      "Step 120000 MSE = nan\n",
      "Step 125000 MSE = nan\n",
      "Step 130000 MSE = nan\n",
      "Step 135000 MSE = nan\n",
      "Step 140000 MSE = nan\n",
      "Step 145000 MSE = nan\n",
      "Step 150000 MSE = nan\n",
      "Step 155000 MSE = nan\n",
      "Step 160000 MSE = nan\n",
      "Step 165000 MSE = nan\n",
      "Step 170000 MSE = nan\n",
      "Step 175000 MSE = nan\n",
      "Step 180000 MSE = nan\n",
      "Step 185000 MSE = nan\n",
      "Step 190000 MSE = nan\n",
      "Step 195000 MSE = nan\n"
     ]
    }
   ],
   "source": [
    "# Partial solution\n",
    "# (Please have a look on the online API documentation. They are very useful.)\n",
    "\n",
    "from sklearn.preprocessing import StandardScaler\n",
    "\n",
    "scaler = StandardScaler()\n",
    "scaler.fit(boston_features)\n",
    "scaled_boston_features = scaler.transform(boston_features)\n",
    "\n",
    "n_steps = 200000 # number of training epochs\n",
    "learn_rate = 0.001 # learning rate (see how it's used to update weight below)\n",
    "\n",
    "X = tf.constant(boston_features, dtype=tf.float32, name=\"X\")\n",
    "y = tf.constant(boston.target.reshape(-1, 1), dtype=tf.float32, name=\"y\")\n",
    "w = tf.Variable(tf.random_uniform([n+1,1], -1.0, 1.0), name=\"w\") # get a random tensor with uniform distribution\n",
    "y_hat = tf.matmul(X, w, name=\"y_hat\") \n",
    "error = y_hat - y\n",
    "mse = tf.reduce_mean(tf.square(error), name=\"mse\") \n",
    "\n",
    "gradients = tf.gradients(mse, [w])[0] # compute a gradient of mse with respect to the weight vector\n",
    "train_step = tf.assign(w, w - learn_rate * gradients) # compute and assign the new weight to w\n",
    "\n",
    "init = tf.global_variables_initializer()\n",
    "with tf.Session() as sess:\n",
    "    sess.run(init)\n",
    "    \n",
    "    for step in range(n_steps):\n",
    "        if step % 5000 == 0:\n",
    "            print(\"Step\", step, \"MSE =\", mse.eval())\n",
    "        sess.run(train_step)\n",
    "    \n",
    "    w_best = w.eval()"
   ]
  },
  {
   "cell_type": "code",
   "execution_count": 21,
   "id": "08f2b6ae",
   "metadata": {},
   "outputs": [
    {
     "data": {
      "text/plain": [
       "[<matplotlib.lines.Line2D at 0x27f916abe20>]"
      ]
     },
     "execution_count": 21,
     "metadata": {},
     "output_type": "execute_result"
    },
    {
     "data": {
      "image/png": "[encoded data removed]",
      "text/plain": [
       "<Figure size 432x288 with 1 Axes>"
      ]
     },
     "metadata": {
      "needs_background": "light"
     },
     "output_type": "display_data"
    }
   ],
   "source": [
    "import matplotlib.pyplot as plt\n",
    "\n",
    "s, u, v = tf.svd(X)\n",
    "P_comp = tf.slice(v, [0, 0], [n + 1, 1])\n",
    "X_proj = tf.matmul(X, P_comp)\n",
    "\n",
    "with tf.Session() as sess:\n",
    "    sess.run(X_proj)\n",
    "    X_final = X_proj.eval()\n",
    "\n",
    "plt.figure()\n",
    "plt.plot(X_final, boston.target, \".\")"
   ]
  },
  {
   "cell_type": "code",
   "execution_count": 15,
   "id": "a0e1eb01",
   "metadata": {},
   "outputs": [
    {
     "data": {
      "text/plain": [
       "[<matplotlib.lines.Line2D at 0x27f914ab310>]"
      ]
     },
     "execution_count": 15,
     "metadata": {},
     "output_type": "execute_result"
    },
    {
     "data": {
      "image/png": "[encoded data removed]",
      "text/plain": [
       "<Figure size 432x288 with 1 Axes>"
      ]
     },
     "metadata": {
      "needs_background": "light"
     },
     "output_type": "display_data"
    }
   ],
   "source": [
    "# Solution\n",
    "\n",
    "P_comp2 = tf.slice(v, [0, 1], [n + 1, 1])\n",
    "X_proj = tf.matmul(X, P_comp2)\n",
    "\n",
    "with tf.Session() as sess:\n",
    "    sess.run(X_proj)\n",
    "    X_final = X_proj.eval()\n",
    "\n",
    "plt.figure()\n",
    "plt.plot(X_final, boston.target, \".\")"
   ]
  },
  {
   "cell_type": "code",
   "execution_count": 17,
   "id": "804c3be6",
   "metadata": {},
   "outputs": [
    {
     "data": {
      "text/plain": [
       "[<matplotlib.lines.Line2D at 0x27f91517eb0>]"
      ]
     },
     "execution_count": 17,
     "metadata": {},
     "output_type": "execute_result"
    },
    {
     "data": {
      "image/png": "[encoded data removed]",
      "text/plain": [
       "<Figure size 432x288 with 1 Axes>"
      ]
     },
     "metadata": {
      "needs_background": "light"
     },
     "output_type": "display_data"
    }
   ],
   "source": [
    "# Solution (with StandardScaler)\n",
    "import matplotlib.pyplot as plt\n",
    "from sklearn.preprocessing import StandardScaler\n",
    "\n",
    "scaler = StandardScaler()\n",
    "scaler.fit(boston_features)\n",
    "scaled_boston_features = scaler.transform(boston_features)\n",
    "scaled_X = tf.constant(scaled_boston_features, dtype=tf.float32, name=\"X\")\n",
    "\n",
    "s, u, v = tf.svd(scaled_X)\n",
    "P_comp = tf.slice(v, [0, 0], [n + 1, 1])\n",
    "X_proj = tf.matmul(scaled_X, P_comp)\n",
    "\n",
    "with tf.Session() as sess:\n",
    "    sess.run(X_proj)\n",
    "    X_final = X_proj.eval()\n",
    "\n",
    "plt.figure()\n",
    "plt.plot(X_final, boston.target, \".\")"
   ]
  },
  {
   "cell_type": "code",
   "execution_count": 18,
   "id": "54603fc3",
   "metadata": {},
   "outputs": [
    {
     "data": {
      "text/plain": [
       "[<matplotlib.lines.Line2D at 0x27f91589100>]"
      ]
     },
     "execution_count": 18,
     "metadata": {},
     "output_type": "execute_result"
    },
    {
     "data": {
      "image/png": "[encoded data removed]",
      "text/plain": [
       "<Figure size 432x288 with 1 Axes>"
      ]
     },
     "metadata": {
      "needs_background": "light"
     },
     "output_type": "display_data"
    }
   ],
   "source": [
    "# Solution (with MaxMinScaler)\n",
    "import matplotlib.pyplot as plt\n",
    "from sklearn.preprocessing import MinMaxScaler\n",
    "\n",
    "scaler = MinMaxScaler()\n",
    "scaler.fit(boston_features)\n",
    "scaled_boston_features = scaler.transform(boston_features)\n",
    "scaled_X = tf.constant(scaled_boston_features, dtype=tf.float32, name=\"X\")\n",
    "\n",
    "s, u, v = tf.svd(scaled_X)\n",
    "P_comp = tf.slice(v, [0, 0], [n + 1, 1])\n",
    "X_proj = tf.matmul(scaled_X, P_comp)\n",
    "\n",
    "with tf.Session() as sess:\n",
    "    sess.run(X_proj)\n",
    "    X_final = X_proj.eval()\n",
    "\n",
    "plt.figure()\n",
    "plt.plot(X_final, boston.target, \".\")"
   ]
  },
  {
   "cell_type": "code",
   "execution_count": null,
   "id": "02e6d116",
   "metadata": {},
   "outputs": [],
   "source": []
  }
 ],
 "metadata": {
  "kernelspec": {
   "display_name": "Python 3 (ipykernel)",
   "language": "python",
   "name": "python3"
  },
  "language_info": {
   "codemirror_mode": {
    "name": "ipython",
    "version": 3
   },
   "file_extension": ".py",
   "mimetype": "text/x-python",
   "name": "python",
   "nbconvert_exporter": "python",
   "pygments_lexer": "ipython3",
   "version": "3.8.8"
  }
 },
 "nbformat": 4,
 "nbformat_minor": 5
}
