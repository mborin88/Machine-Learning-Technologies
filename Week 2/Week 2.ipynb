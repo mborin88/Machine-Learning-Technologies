{
 "cells": [
  {
   "cell_type": "code",
   "execution_count": 2,
   "id": "c7f77bb2",
   "metadata": {},
   "outputs": [],
   "source": [
    "import numpy as np\n",
    "\n",
    "np.random.seed(0)"
   ]
  },
  {
   "cell_type": "code",
   "execution_count": 3,
   "id": "e999f12f",
   "metadata": {},
   "outputs": [],
   "source": [
    "from sklearn.datasets import load_boston\n",
    "\n",
    "boston = load_boston()"
   ]
  },
  {
   "cell_type": "code",
   "execution_count": 4,
   "id": "6d465dc7",
   "metadata": {},
   "outputs": [],
   "source": [
    "rnd_indices = np.random.permutation(boston.data.shape[0])\n",
    "train_size = int(boston.data.shape[0] * 0.8)\n",
    "train_indices = rnd_indices[:train_size]\n",
    "test_indices = rnd_indices[train_size:]\n",
    "\n",
    "train_data = boston.data[train_indices, :]\n",
    "test_data = boston.data[test_indices, :]\n",
    "train_target = boston.target[train_indices]\n",
    "test_target = boston.target[test_indices]"
   ]
  },
  {
   "cell_type": "code",
   "execution_count": 27,
   "id": "ef0e9fcc",
   "metadata": {
    "scrolled": true
   },
   "outputs": [
    {
     "name": "stdout",
     "output_type": "stream",
     "text": [
      "dict_keys(['data', 'target', 'feature_names', 'DESCR', 'filename'])\n",
      "['RM' 'AGE']\n",
      ".. _boston_dataset:\n",
      "\n",
      "Boston house prices dataset\n",
      "---------------------------\n",
      "\n",
      "**Data Set Characteristics:**  \n",
      "\n",
      "    :Number of Instances: 506 \n",
      "\n",
      "    :Number of Attributes: 13 numeric/categorical predictive. Median Value (attribute 14) is usually the target.\n",
      "\n",
      "    :Attribute Information (in order):\n",
      "        - CRIM     per capita crime rate by town\n",
      "        - ZN       proportion of residential land zoned for lots over 25,000 sq.ft.\n",
      "        - INDUS    proportion of non-retail business acres per town\n",
      "        - CHAS     Charles River dummy variable (= 1 if tract bounds river; 0 otherwise)\n",
      "        - NOX      nitric oxides concentration (parts per 10 million)\n",
      "        - RM       average number of rooms per dwelling\n",
      "        - AGE      proportion of owner-occupied units built prior to 1940\n",
      "        - DIS      weighted distances to five Boston employment centres\n",
      "        - RAD      index of accessibility to radial highways\n",
      "        - TAX      full-value property-tax rate per $10,000\n",
      "        - PTRATIO  pupil-teacher ratio by town\n",
      "        - B        1000(Bk - 0.63)^2 where Bk is the proportion of black people by town\n",
      "        - LSTAT    % lower status of the population\n",
      "        - MEDV     Median value of owner-occupied homes in $1000's\n",
      "\n",
      "    :Missing Attribute Values: None\n",
      "\n",
      "    :Creator: Harrison, D. and Rubinfeld, D.L.\n",
      "\n",
      "This is a copy of UCI ML housing dataset.\n",
      "https://archive.ics.uci.edu/ml/machine-learning-databases/housing/\n",
      "\n",
      "\n",
      "This dataset was taken from the StatLib library which is maintained at Carnegie Mellon University.\n",
      "\n",
      "The Boston house-price data of Harrison, D. and Rubinfeld, D.L. 'Hedonic\n",
      "prices and the demand for clean air', J. Environ. Economics & Management,\n",
      "vol.5, 81-102, 1978.   Used in Belsley, Kuh & Welsch, 'Regression diagnostics\n",
      "...', Wiley, 1980.   N.B. Various transformations are used in the table on\n",
      "pages 244-261 of the latter.\n",
      "\n",
      "The Boston house-price data has been used in many machine learning papers that address regression\n",
      "problems.   \n",
      "     \n",
      ".. topic:: References\n",
      "\n",
      "   - Belsley, Kuh & Welsch, 'Regression diagnostics: Identifying Influential Data and Sources of Collinearity', Wiley, 1980. 244-261.\n",
      "   - Quinlan,R. (1993). Combining Instance-Based and Model-Based Learning. In Proceedings on the Tenth International Conference of Machine Learning, 236-243, University of Massachusetts, Amherst. Morgan Kaufmann.\n",
      "\n"
     ]
    }
   ],
   "source": [
    "print(boston.keys())\n",
    "#print(boston.data.shape)\n",
    "#print(boston.target.shape)\n",
    "#print(train_indices)\n",
    "print(boston.feature_names[5:7])\n",
    "print(boston.DESCR)"
   ]
  },
  {
   "cell_type": "code",
   "execution_count": 123,
   "id": "69980390",
   "metadata": {},
   "outputs": [
    {
     "data": {
      "text/plain": [
       "LinearRegression()"
      ]
     },
     "execution_count": 123,
     "metadata": {},
     "output_type": "execute_result"
    }
   ],
   "source": [
    "from sklearn.linear_model import LinearRegression\n",
    "import matplotlib.pyplot as plt\n",
    "\n",
    "# fit a linear regressor\n",
    "lin_reg = LinearRegression()\n",
    "X = train_data[:,5].reshape(-1,1) #to plot 1D list need to reshape and for fitting as well\n",
    "lin_reg.fit(X, train_target)"
   ]
  },
  {
   "cell_type": "code",
   "execution_count": 125,
   "id": "c373ace3",
   "metadata": {},
   "outputs": [
    {
     "data": {
      "text/plain": [
       "[<matplotlib.lines.Line2D at 0x184b8117910>]"
      ]
     },
     "execution_count": 125,
     "metadata": {},
     "output_type": "execute_result"
    },
    {
     "data": {
      "image/png": "[encoded data removed]",
      "text/plain": [
       "<Figure size 432x288 with 1 Axes>"
      ]
     },
     "metadata": {
      "needs_background": "light"
     },
     "output_type": "display_data"
    }
   ],
   "source": [
    "import matplotlib.pyplot as plt\n",
    "\n",
    "plt.figure()\n",
    "plt.plot(X, train_target, \"*\")\n",
    "y_pred = lin_reg.predict(X)\n",
    "plt.plot(X, y_pred, 'red')"
   ]
  },
  {
   "cell_type": "code",
   "execution_count": 83,
   "id": "7dac73a2",
   "metadata": {},
   "outputs": [
    {
     "data": {
      "text/plain": [
       "LinearRegression()"
      ]
     },
     "execution_count": 83,
     "metadata": {},
     "output_type": "execute_result"
    }
   ],
   "source": [
    "from sklearn.linear_model import LinearRegression\n",
    "import matplotlib.pyplot as plt\n",
    "\n",
    "# fit a linear regressor\n",
    "lin_reg = LinearRegression()\n",
    "lin_reg.fit(train_data, train_target)\n"
   ]
  },
  {
   "cell_type": "code",
   "execution_count": 35,
   "id": "69069054",
   "metadata": {},
   "outputs": [
    {
     "name": "stdout",
     "output_type": "stream",
     "text": [
      "Linear Train RMSE: 4.854290583096463 \n",
      "Linear Test RMSE: 4.060118093883478\n"
     ]
    }
   ],
   "source": [
    "train_predict = lin_reg.predict(train_data)\n",
    "test_predict = lin_reg.predict(test_data)\n",
    "train_rmse = np.sqrt(((train_target - train_predict) ** 2).mean())\n",
    "test_rmse = np.sqrt(((test_target - test_predict) ** 2).mean())\n",
    "print(\"Linear Train RMSE:\", train_rmse, \"\\nLinear Test RMSE:\", test_rmse)"
   ]
  },
  {
   "cell_type": "code",
   "execution_count": 37,
   "id": "130407ca",
   "metadata": {},
   "outputs": [
    {
     "name": "stdout",
     "output_type": "stream",
     "text": [
      "Before\t\tAfter\n",
      "16.9 \t -0.7163785977768039\n",
      "20.2 \t 0.8260567164287369\n",
      "16.4 \t -0.9500809181109767\n",
      "20.2 \t 0.8260567164287369\n",
      "18.7 \t 0.1249497554262185\n",
      "21.0 \t 1.1999804289634137\n",
      "20.2 \t 0.8260567164287369\n",
      "20.2 \t 0.8260567164287369\n",
      "18.4 \t -0.01527163677428552\n",
      "20.9 \t 1.1532399648965785\n",
      "20.2 \t 0.8260567164287369\n",
      "20.2 \t 0.8260567164287369\n",
      "20.2 \t 0.8260567164287369\n",
      "20.2 \t 0.8260567164287369\n",
      "14.7 \t -1.7446688072471639\n",
      "14.8 \t -1.6979283431803287\n",
      "20.2 \t 0.8260567164287369\n",
      "12.6 \t -2.7262185526506895\n",
      "16.6 \t -0.8565999899773062\n",
      "19.2 \t 0.3586520757603913\n",
      "19.6 \t 0.5456139320277306\n",
      "14.7 \t -1.7446688072471639\n",
      "20.9 \t 1.1532399648965785\n",
      "17.6 \t -0.38919534930896066\n",
      "17.9 \t -0.24897395710845832\n",
      "20.2 \t 0.8260567164287369\n",
      "21.0 \t 1.1999804289634137\n",
      "14.7 \t -1.7446688072471639\n",
      "18.0 \t -0.2022334930416231\n",
      "17.8 \t -0.2957144211752919\n",
      "20.2 \t 0.8260567164287369\n",
      "20.2 \t 0.8260567164287369\n",
      "19.1 \t 0.31191161169355774\n",
      "16.6 \t -0.8565999899773062\n",
      "16.6 \t -0.8565999899773062\n",
      "20.2 \t 0.8260567164287369\n",
      "20.2 \t 0.8260567164287369\n",
      "20.2 \t 0.8260567164287369\n",
      "20.2 \t 0.8260567164287369\n",
      "20.2 \t 0.8260567164287369\n",
      "16.0 \t -1.1370427743783142\n",
      "17.9 \t -0.24897395710845832\n",
      "16.9 \t -0.7163785977768039\n",
      "20.2 \t 0.8260567164287369\n",
      "15.9 \t -1.1837832384451488\n",
      "17.8 \t -0.2957144211752919\n",
      "16.0 \t -1.1370427743783142\n",
      "14.7 \t -1.7446688072471639\n",
      "14.7 \t -1.7446688072471639\n",
      "20.9 \t 1.1532399648965785\n",
      "14.7 \t -1.7446688072471639\n",
      "19.2 \t 0.3586520757603913\n",
      "17.4 \t -0.48267627744263114\n",
      "19.1 \t 0.31191161169355774\n",
      "21.2 \t 1.2934613570970825\n",
      "15.2 \t -1.510966486912991\n",
      "16.9 \t -0.7163785977768039\n",
      "18.8 \t 0.17169021949305371\n",
      "20.2 \t 0.8260567164287369\n",
      "18.6 \t 0.07820929135938492\n",
      "18.3 \t -0.062012100841119085\n",
      "18.4 \t -0.01527163677428552\n",
      "16.1 \t -1.090302310311479\n",
      "17.4 \t -0.48267627744263114\n",
      "20.2 \t 0.8260567164287369\n",
      "15.2 \t -1.510966486912991\n",
      "20.2 \t 0.8260567164287369\n",
      "15.2 \t -1.510966486912991\n",
      "20.2 \t 0.8260567164287369\n",
      "18.6 \t 0.07820929135938492\n",
      "18.7 \t 0.1249497554262185\n",
      "18.7 \t 0.1249497554262185\n",
      "16.1 \t -1.090302310311479\n",
      "17.6 \t -0.38919534930896066\n",
      "20.2 \t 0.8260567164287369\n",
      "20.2 \t 0.8260567164287369\n",
      "17.4 \t -0.48267627744263114\n",
      "18.6 \t 0.07820929135938492\n",
      "17.8 \t -0.2957144211752919\n",
      "19.2 \t 0.3586520757603913\n",
      "16.6 \t -0.8565999899773062\n",
      "21.2 \t 1.2934613570970825\n",
      "20.2 \t 0.8260567164287369\n",
      "17.4 \t -0.48267627744263114\n",
      "17.4 \t -0.48267627744263114\n",
      "19.6 \t 0.5456139320277306\n",
      "18.0 \t -0.2022334930416231\n",
      "20.2 \t 0.8260567164287369\n",
      "14.7 \t -1.7446688072471639\n",
      "20.2 \t 0.8260567164287369\n",
      "21.1 \t 1.246720893030249\n",
      "20.2 \t 0.8260567164287369\n",
      "16.4 \t -0.9500809181109767\n",
      "14.8 \t -1.6979283431803287\n",
      "21.0 \t 1.1999804289634137\n",
      "19.1 \t 0.31191161169355774\n",
      "20.2 \t 0.8260567164287369\n",
      "17.3 \t -0.5294167415094647\n",
      "20.2 \t 0.8260567164287369\n",
      "19.7 \t 0.5923543960945641\n",
      "18.6 \t 0.07820929135938492\n",
      "20.9 \t 1.1532399648965785\n",
      "17.4 \t -0.48267627744263114\n",
      "19.2 \t 0.3586520757603913\n",
      "16.6 \t -0.8565999899773062\n",
      "15.2 \t -1.510966486912991\n",
      "20.2 \t 0.8260567164287369\n",
      "20.2 \t 0.8260567164287369\n",
      "21.0 \t 1.1999804289634137\n",
      "16.1 \t -1.090302310311479\n",
      "14.7 \t -1.7446688072471639\n",
      "20.2 \t 0.8260567164287369\n",
      "15.2 \t -1.510966486912991\n",
      "17.8 \t -0.2957144211752919\n",
      "15.2 \t -1.510966486912991\n",
      "18.6 \t 0.07820929135938492\n",
      "20.2 \t 0.8260567164287369\n",
      "21.2 \t 1.2934613570970825\n",
      "20.2 \t 0.8260567164287369\n",
      "13.6 \t -2.258813911982344\n",
      "15.2 \t -1.510966486912991\n",
      "20.2 \t 0.8260567164287369\n",
      "17.9 \t -0.24897395710845832\n",
      "19.2 \t 0.3586520757603913\n",
      "18.4 \t -0.01527163677428552\n",
      "19.1 \t 0.31191161169355774\n",
      "18.4 \t -0.01527163677428552\n",
      "19.1 \t 0.31191161169355774\n",
      "19.7 \t 0.5923543960945641\n",
      "17.6 \t -0.38919534930896066\n",
      "20.2 \t 0.8260567164287369\n",
      "20.2 \t 0.8260567164287369\n",
      "20.1 \t 0.7793162523619034\n",
      "14.7 \t -1.7446688072471639\n",
      "20.2 \t 0.8260567164287369\n",
      "17.9 \t -0.24897395710845832\n",
      "17.4 \t -0.48267627744263114\n",
      "14.7 \t -1.7446688072471639\n",
      "19.1 \t 0.31191161169355774\n",
      "20.2 \t 0.8260567164287369\n",
      "20.2 \t 0.8260567164287369\n",
      "19.2 \t 0.3586520757603913\n",
      "17.8 \t -0.2957144211752919\n",
      "16.8 \t -0.7631190618436375\n",
      "18.7 \t 0.1249497554262185\n",
      "21.0 \t 1.1999804289634137\n",
      "17.0 \t -0.6696381337099687\n",
      "18.7 \t 0.1249497554262185\n",
      "20.2 \t 0.8260567164287369\n",
      "20.2 \t 0.8260567164287369\n",
      "18.4 \t -0.01527163677428552\n",
      "18.7 \t 0.1249497554262185\n",
      "21.2 \t 1.2934613570970825\n",
      "18.6 \t 0.07820929135938492\n",
      "21.2 \t 1.2934613570970825\n",
      "14.8 \t -1.6979283431803287\n",
      "19.1 \t 0.31191161169355774\n",
      "21.0 \t 1.1999804289634137\n",
      "18.9 \t 0.2184306835598873\n",
      "21.0 \t 1.1999804289634137\n",
      "20.2 \t 0.8260567164287369\n",
      "21.0 \t 1.1999804289634137\n",
      "14.9 \t -1.6511878791134944\n",
      "17.4 \t -0.48267627744263114\n",
      "18.6 \t 0.07820929135938492\n",
      "19.6 \t 0.5456139320277306\n",
      "19.6 \t 0.5456139320277306\n",
      "19.0 \t 0.2651711476267225\n",
      "20.2 \t 0.8260567164287369\n",
      "20.2 \t 0.8260567164287369\n",
      "15.6 \t -1.3240046306456528\n",
      "20.2 \t 0.8260567164287369\n",
      "20.2 \t 0.8260567164287369\n",
      "14.7 \t -1.7446688072471639\n",
      "20.2 \t 0.8260567164287369\n",
      "20.2 \t 0.8260567164287369\n",
      "19.2 \t 0.3586520757603913\n",
      "19.2 \t 0.3586520757603913\n",
      "20.2 \t 0.8260567164287369\n",
      "16.8 \t -0.7631190618436375\n",
      "20.2 \t 0.8260567164287369\n",
      "20.2 \t 0.8260567164287369\n",
      "20.2 \t 0.8260567164287369\n",
      "14.7 \t -1.7446688072471639\n",
      "20.9 \t 1.1532399648965785\n",
      "19.6 \t 0.5456139320277306\n",
      "19.7 \t 0.5923543960945641\n",
      "17.0 \t -0.6696381337099687\n",
      "17.8 \t -0.2957144211752919\n",
      "20.2 \t 0.8260567164287369\n",
      "20.2 \t 0.8260567164287369\n",
      "13.0 \t -2.539256696383351\n",
      "17.8 \t -0.2957144211752919\n",
      "18.4 \t -0.01527163677428552\n",
      "13.0 \t -2.539256696383351\n",
      "18.2 \t -0.1087525649079543\n",
      "16.1 \t -1.090302310311479\n",
      "20.2 \t 0.8260567164287369\n",
      "18.4 \t -0.01527163677428552\n",
      "14.9 \t -1.6511878791134944\n",
      "18.2 \t -0.1087525649079543\n",
      "21.0 \t 1.1999804289634137\n",
      "13.0 \t -2.539256696383351\n",
      "12.6 \t -2.7262185526506895\n",
      "14.7 \t -1.7446688072471639\n",
      "14.7 \t -1.7446688072471639\n",
      "14.7 \t -1.7446688072471639\n",
      "19.1 \t 0.31191161169355774\n",
      "20.2 \t 0.8260567164287369\n",
      "14.7 \t -1.7446688072471639\n",
      "18.5 \t 0.031468827292549705\n",
      "17.4 \t -0.48267627744263114\n",
      "20.2 \t 0.8260567164287369\n",
      "16.1 \t -1.090302310311479\n",
      "18.4 \t -0.01527163677428552\n",
      "20.2 \t 0.8260567164287369\n",
      "21.2 \t 1.2934613570970825\n",
      "20.9 \t 1.1532399648965785\n",
      "20.2 \t 0.8260567164287369\n",
      "17.8 \t -0.2957144211752919\n",
      "20.2 \t 0.8260567164287369\n",
      "17.4 \t -0.48267627744263114\n",
      "21.0 \t 1.1999804289634137\n",
      "14.7 \t -1.7446688072471639\n",
      "16.4 \t -0.9500809181109767\n",
      "20.2 \t 0.8260567164287369\n",
      "21.0 \t 1.1999804289634137\n",
      "17.8 \t -0.2957144211752919\n",
      "16.6 \t -0.8565999899773062\n",
      "20.9 \t 1.1532399648965785\n",
      "20.2 \t 0.8260567164287369\n",
      "18.4 \t -0.01527163677428552\n",
      "16.6 \t -0.8565999899773062\n",
      "19.1 \t 0.31191161169355774\n",
      "17.8 \t -0.2957144211752919\n",
      "14.7 \t -1.7446688072471639\n",
      "20.2 \t 0.8260567164287369\n",
      "19.1 \t 0.31191161169355774\n",
      "13.0 \t -2.539256696383351\n",
      "17.8 \t -0.2957144211752919\n",
      "20.2 \t 0.8260567164287369\n",
      "17.9 \t -0.24897395710845832\n",
      "20.2 \t 0.8260567164287369\n",
      "21.2 \t 1.2934613570970825\n",
      "15.2 \t -1.510966486912991\n",
      "18.3 \t -0.062012100841119085\n",
      "17.8 \t -0.2957144211752919\n",
      "19.1 \t 0.31191161169355774\n",
      "15.3 \t -1.4642260228461559\n",
      "21.0 \t 1.1999804289634137\n",
      "20.2 \t 0.8260567164287369\n",
      "20.2 \t 0.8260567164287369\n",
      "20.2 \t 0.8260567164287369\n",
      "17.4 \t -0.48267627744263114\n",
      "21.2 \t 1.2934613570970825\n",
      "21.0 \t 1.1999804289634137\n",
      "20.2 \t 0.8260567164287369\n",
      "17.9 \t -0.24897395710845832\n",
      "19.7 \t 0.5923543960945641\n",
      "17.0 \t -0.6696381337099687\n",
      "18.6 \t 0.07820929135938492\n",
      "16.6 \t -0.8565999899773062\n",
      "16.4 \t -0.9500809181109767\n",
      "19.2 \t 0.3586520757603913\n",
      "19.2 \t 0.3586520757603913\n",
      "20.2 \t 0.8260567164287369\n",
      "21.0 \t 1.1999804289634137\n",
      "20.2 \t 0.8260567164287369\n",
      "18.8 \t 0.17169021949305371\n",
      "20.2 \t 0.8260567164287369\n",
      "16.4 \t -0.9500809181109767\n",
      "21.0 \t 1.1999804289634137\n",
      "20.2 \t 0.8260567164287369\n",
      "16.0 \t -1.1370427743783142\n",
      "14.7 \t -1.7446688072471639\n",
      "20.2 \t 0.8260567164287369\n",
      "20.2 \t 0.8260567164287369\n",
      "21.2 \t 1.2934613570970825\n",
      "18.6 \t 0.07820929135938492\n",
      "20.9 \t 1.1532399648965785\n",
      "22.0 \t 1.6673850696317594\n",
      "19.7 \t 0.5923543960945641\n",
      "22.0 \t 1.6673850696317594\n",
      "18.6 \t 0.07820929135938492\n",
      "20.2 \t 0.8260567164287369\n",
      "15.2 \t -1.510966486912991\n",
      "18.6 \t 0.07820929135938492\n",
      "14.7 \t -1.7446688072471639\n",
      "17.4 \t -0.48267627744263114\n",
      "13.0 \t -2.539256696383351\n",
      "18.9 \t 0.2184306835598873\n",
      "21.0 \t 1.1999804289634137\n",
      "16.4 \t -0.9500809181109767\n",
      "17.4 \t -0.48267627744263114\n",
      "21.2 \t 1.2934613570970825\n",
      "17.8 \t -0.2957144211752919\n",
      "14.7 \t -1.7446688072471639\n",
      "20.2 \t 0.8260567164287369\n",
      "20.2 \t 0.8260567164287369\n",
      "18.3 \t -0.062012100841119085\n",
      "17.6 \t -0.38919534930896066\n",
      "20.2 \t 0.8260567164287369\n",
      "18.7 \t 0.1249497554262185\n",
      "18.4 \t -0.01527163677428552\n",
      "18.4 \t -0.01527163677428552\n",
      "21.0 \t 1.1999804289634137\n",
      "16.6 \t -0.8565999899773062\n",
      "20.2 \t 0.8260567164287369\n",
      "19.2 \t 0.3586520757603913\n",
      "17.4 \t -0.48267627744263114\n",
      "14.7 \t -1.7446688072471639\n",
      "19.0 \t 0.2651711476267225\n",
      "21.0 \t 1.1999804289634137\n",
      "20.2 \t 0.8260567164287369\n",
      "20.9 \t 1.1532399648965785\n",
      "14.7 \t -1.7446688072471639\n",
      "14.7 \t -1.7446688072471639\n",
      "21.0 \t 1.1999804289634137\n",
      "17.6 \t -0.38919534930896066\n",
      "20.9 \t 1.1532399648965785\n",
      "20.2 \t 0.8260567164287369\n",
      "21.2 \t 1.2934613570970825\n",
      "17.4 \t -0.48267627744263114\n",
      "13.0 \t -2.539256696383351\n",
      "20.2 \t 0.8260567164287369\n",
      "18.4 \t -0.01527163677428552\n",
      "21.0 \t 1.1999804289634137\n",
      "20.2 \t 0.8260567164287369\n",
      "19.1 \t 0.31191161169355774\n",
      "16.9 \t -0.7163785977768039\n",
      "20.2 \t 0.8260567164287369\n",
      "21.0 \t 1.1999804289634137\n",
      "16.9 \t -0.7163785977768039\n",
      "16.0 \t -1.1370427743783142\n",
      "18.6 \t 0.07820929135938492\n",
      "17.4 \t -0.48267627744263114\n",
      "20.2 \t 0.8260567164287369\n",
      "18.7 \t 0.1249497554262185\n",
      "17.0 \t -0.6696381337099687\n",
      "19.1 \t 0.31191161169355774\n",
      "14.9 \t -1.6511878791134944\n",
      "18.2 \t -0.1087525649079543\n",
      "18.7 \t 0.1249497554262185\n",
      "17.8 \t -0.2957144211752919\n",
      "20.2 \t 0.8260567164287369\n",
      "20.2 \t 0.8260567164287369\n",
      "17.6 \t -0.38919534930896066\n",
      "16.0 \t -1.1370427743783142\n",
      "20.2 \t 0.8260567164287369\n",
      "17.8 \t -0.2957144211752919\n",
      "20.2 \t 0.8260567164287369\n",
      "19.0 \t 0.2651711476267225\n",
      "18.4 \t -0.01527163677428552\n",
      "13.0 \t -2.539256696383351\n",
      "15.2 \t -1.510966486912991\n",
      "20.2 \t 0.8260567164287369\n",
      "18.5 \t 0.031468827292549705\n",
      "13.0 \t -2.539256696383351\n",
      "19.2 \t 0.3586520757603913\n",
      "20.2 \t 0.8260567164287369\n",
      "19.7 \t 0.5923543960945641\n",
      "17.9 \t -0.24897395710845832\n",
      "18.6 \t 0.07820929135938492\n",
      "16.8 \t -0.7631190618436375\n",
      "18.6 \t 0.07820929135938492\n",
      "20.2 \t 0.8260567164287369\n",
      "20.2 \t 0.8260567164287369\n",
      "20.2 \t 0.8260567164287369\n",
      "19.1 \t 0.31191161169355774\n",
      "17.4 \t -0.48267627744263114\n",
      "19.7 \t 0.5923543960945641\n",
      "20.2 \t 0.8260567164287369\n",
      "21.2 \t 1.2934613570970825\n",
      "15.2 \t -1.510966486912991\n",
      "21.0 \t 1.1999804289634137\n",
      "17.9 \t -0.24897395710845832\n",
      "20.2 \t 0.8260567164287369\n",
      "15.3 \t -1.4642260228461559\n",
      "14.7 \t -1.7446688072471639\n",
      "20.2 \t 0.8260567164287369\n",
      "20.2 \t 0.8260567164287369\n",
      "18.0 \t -0.2022334930416231\n",
      "19.7 \t 0.5923543960945641\n",
      "18.4 \t -0.01527163677428552\n",
      "19.2 \t 0.3586520757603913\n",
      "16.6 \t -0.8565999899773062\n",
      "20.2 \t 0.8260567164287369\n",
      "15.9 \t -1.1837832384451488\n",
      "18.2 \t -0.1087525649079543\n",
      "20.2 \t 0.8260567164287369\n",
      "18.0 \t -0.2022334930416231\n",
      "20.2 \t 0.8260567164287369\n",
      "14.7 \t -1.7446688072471639\n",
      "18.9 \t 0.2184306835598873\n",
      "18.4 \t -0.01527163677428552\n",
      "17.9 \t -0.24897395710845832\n",
      "15.5 \t -1.370745094712487\n",
      "20.2 \t 0.8260567164287369\n",
      "20.2 \t 0.8260567164287369\n",
      "18.6 \t 0.07820929135938492\n",
      "14.9 \t -1.6511878791134944\n",
      "17.4 \t -0.48267627744263114\n",
      "14.7 \t -1.7446688072471639\n",
      "14.7 \t -1.7446688072471639\n"
     ]
    }
   ],
   "source": [
    "from sklearn.preprocessing import StandardScaler\n",
    "\n",
    "scaler = StandardScaler()\n",
    "scaler.fit(train_data)\n",
    "scaled_train_data = scaler.transform(train_data)\n",
    "scaled_test_data = scaler.transform(test_data)\n",
    "print(\"Before\\t\\tAfter\")\n",
    "for i in range(len(train_data)):\n",
    "    print(train_data[i][10], \"\\t\", scaled_train_data[i][10]) #10 is the pupil teach ratio data\n",
    "    \n",
    "#for i in train_data:\n",
    "#    print(i[10]) this is train_data[i][10] but in this for loop can't reference scaled_train_data\n",
    "#print(scaled_train_data[10])"
   ]
  },
  {
   "cell_type": "code",
   "execution_count": 11,
   "id": "5af5ae6a",
   "metadata": {},
   "outputs": [
    {
     "name": "stdout",
     "output_type": "stream",
     "text": [
      "Scaled Linear Train RMSE: 22.74154226875535\n",
      "Scaled Linear Test RMSE: 21.84063349577531\n"
     ]
    }
   ],
   "source": [
    "lin_reg2 = LinearRegression()\n",
    "lin_reg2.fit(scaled_train_data, train_target)\n",
    "\n",
    "scaled_test_predict = lin_reg.predict(scaled_test_data)\n",
    "scaled_test_rmse = np.sqrt(((test_target - scaled_test_predict) ** 2).mean())\n",
    "\n",
    "scaled_train_predict = lin_reg.predict(scaled_train_data)\n",
    "scaled_train_rmse = np.sqrt(((train_target - scaled_train_predict) ** 2).mean())\n",
    "print(\"Scaled Linear Train RMSE:\", scaled_train_rmse)\n",
    "print(\"Scaled Linear Test RMSE:\", scaled_test_rmse)"
   ]
  },
  {
   "cell_type": "code",
   "execution_count": 12,
   "id": "6c090216",
   "metadata": {},
   "outputs": [],
   "source": [
    "def rmse(x, y):\n",
    "    return np.sqrt(((x - y) ** 2).mean())"
   ]
  },
  {
   "cell_type": "code",
   "execution_count": 13,
   "id": "ae3a1303",
   "metadata": {},
   "outputs": [
    {
     "name": "stdout",
     "output_type": "stream",
     "text": [
      "Ridge Train RMSE: 4.874044350170758\n",
      "Ridge Test RMSE: 4.115561183052352\n",
      "\n",
      "Lasso Train RMSE: 5.323133981182158\n",
      "Lasso Test RMSE: 5.422054114286457\n"
     ]
    }
   ],
   "source": [
    "from sklearn.linear_model import Lasso, Ridge\n",
    "# fit a ridge regressor\n",
    "alpha_ridge = 1\n",
    "ridge_reg = Ridge(alpha_ridge, solver=\"cholesky\")\n",
    "ridge_reg.fit(train_data, train_target)\n",
    "\n",
    "ridge_train_predict = ridge_reg.predict(train_data)\n",
    "ridge_test_predict = ridge_reg.predict(test_data)\n",
    "print(\"Ridge Train RMSE:\", rmse(train_target, ridge_train_predict))\n",
    "print(\"Ridge Test RMSE:\", rmse(test_target, ridge_test_predict))\n",
    "\n",
    "# fit a lasso regressor\n",
    "alpha_lasso = 1\n",
    "lasso_reg = Lasso(alpha_lasso)\n",
    "lasso_reg.fit(train_data, train_target)\n",
    "lasso_train_predict = lasso_reg.predict(train_data)\n",
    "lasso_test_predict = lasso_reg.predict(test_data)\n",
    "print(\"\\nLasso Train RMSE:\", rmse(train_target, lasso_train_predict))\n",
    "print(\"Lasso Test RMSE:\", rmse(test_target, lasso_test_predict))"
   ]
  },
  {
   "cell_type": "code",
   "execution_count": 38,
   "id": "fc601c0b",
   "metadata": {},
   "outputs": [
    {
     "name": "stdout",
     "output_type": "stream",
     "text": [
      "Scaled Ridge Train RMSE: 4.85718165861117\n",
      "Scaled Ridge Test RMSE: 4.041640375268793\n",
      "\n",
      "Scaled Lasso Train RMSE: 4.904090777003672\n",
      "Scaled Lasso Test RMSE: 4.098634382950761\n"
     ]
    }
   ],
   "source": [
    "from sklearn.linear_model import Lasso, Ridge\n",
    "# fit a ridge regressor\n",
    "alpha_ridge = 4\n",
    "ridge_reg2 = Ridge(alpha_ridge, solver=\"cholesky\")\n",
    "ridge_reg2.fit(scaled_train_data, train_target)\n",
    "\n",
    "ridge2_scaled_train_predict = ridge_reg2.predict(scaled_train_data)\n",
    "ridge2_scaled_test_predict = ridge_reg2.predict(scaled_test_data)\n",
    "print(\"Scaled Ridge Train RMSE:\", rmse(train_target, ridge2_scaled_train_predict))\n",
    "print(\"Scaled Ridge Test RMSE:\", rmse(test_target, ridge2_scaled_test_predict))\n",
    "\n",
    "# fit a lasso regressor\n",
    "alpha_lasso = 0.1\n",
    "lasso_reg2 = Lasso(alpha_lasso)\n",
    "lasso_reg2.fit(scaled_train_data, train_target)\n",
    "lasso2_scaled_train_predict = lasso_reg2.predict(scaled_train_data)\n",
    "lasso2_scaled_test_predict = lasso_reg2.predict(scaled_test_data)\n",
    "print(\"\\nScaled Lasso Train RMSE:\", rmse(train_target, lasso2_scaled_train_predict))\n",
    "print(\"Scaled Lasso Test RMSE:\", rmse(test_target, lasso2_scaled_test_predict))"
   ]
  },
  {
   "cell_type": "code",
   "execution_count": 57,
   "id": "8ba14c9f",
   "metadata": {},
   "outputs": [
    {
     "name": "stdout",
     "output_type": "stream",
     "text": [
      "0.2 4.926077444857416\n"
     ]
    }
   ],
   "source": [
    "from sklearn.svm import LinearSVR\n",
    "import warnings\n",
    "warnings.filterwarnings('ignore')\n",
    "\n",
    "Test_rmse = []\n",
    "\n",
    "for i in range(100):\n",
    "    epsilon_svm = round(i*0.1,2)\n",
    "    svm_reg = LinearSVR(epsilon_svm)\n",
    "    svm_reg.fit(train_data, train_target)\n",
    "    svm_reg_train_predict = svm_reg.predict(train_data)\n",
    "    svm_reg_test_predict = svm_reg.predict(test_data)\n",
    "    \n",
    "    #print(\"=\" * 20)\n",
    "    #print(\"Epsilon: \", epsilon_svm)\n",
    "    #print(\"SVM Train RMSE:\", rmse(train_target, svm_reg_train_predict))\n",
    "    #print(\"SVM Test RMSE:\", rmse(test_target, svm_reg_test_predict))\n",
    "    #print(\"\\nSVM Difference\", rmse(test_target, svm_reg_test_predict) - rmse(train_target, svm_reg_train_predict))\n",
    "    Test_rmse.append(rmse(test_target, svm_reg_test_predict))\n",
    "\n",
    "print(Test_rmse.index(min(Test_rmse))*0.1, min(Test_rmse))"
   ]
  },
  {
   "cell_type": "code",
   "execution_count": 52,
   "id": "6d0cbc2d",
   "metadata": {},
   "outputs": [],
   "source": [
    "n = 100\n",
    "data = 12 * np.random.rand(n, 1) - 3.9\n",
    "target = 0.09 * (data**3) + 0.3 * (data**2) - 4.1 * data - 2.4 + 4.79 * np.random.randn(n, 1)"
   ]
  },
  {
   "cell_type": "code",
   "execution_count": 17,
   "id": "674f2f6b",
   "metadata": {},
   "outputs": [
    {
     "data": {
      "text/plain": [
       "[<matplotlib.lines.Line2D at 0x184b3fa5670>]"
      ]
     },
     "execution_count": 17,
     "metadata": {},
     "output_type": "execute_result"
    },
    {
     "data": {
      "image/png": "[encoded data removed]",
      "text/plain": [
       "<Figure size 432x288 with 1 Axes>"
      ]
     },
     "metadata": {
      "needs_background": "light"
     },
     "output_type": "display_data"
    }
   ],
   "source": [
    "plt.figure()\n",
    "plt.plot(data, target, \"*\")"
   ]
  },
  {
   "cell_type": "code",
   "execution_count": 183,
   "id": "5ba0e742",
   "metadata": {},
   "outputs": [
    {
     "data": {
      "text/plain": [
       "LinearRegression()"
      ]
     },
     "execution_count": 183,
     "metadata": {},
     "output_type": "execute_result"
    },
    {
     "data": {
      "image/png": "[encoded data removed]",
      "text/plain": [
       "<Figure size 432x288 with 1 Axes>"
      ]
     },
     "metadata": {
      "needs_background": "light"
     },
     "output_type": "display_data"
    },
    {
     "data": {
      "image/png": "[encoded data removed]",
      "text/plain": [
       "<Figure size 432x288 with 1 Axes>"
      ]
     },
     "metadata": {
      "needs_background": "light"
     },
     "output_type": "display_data"
    }
   ],
   "source": [
    "from sklearn.preprocessing import PolynomialFeatures\n",
    "\n",
    "#Plotting practice regression based on above data\n",
    "poly_features = PolynomialFeatures(degree=2, include_bias=False)\n",
    "poly_train_data = poly_features.fit_transform(data)\n",
    "lin_reg = LinearRegression()\n",
    "lin_reg.fit(poly_train_data, target)\n",
    "\n",
    "#To get smooth curve make new lots of x values to predict on\n",
    "x = np.linspace(-5,9,200).reshape(-1,1)\n",
    "x_poly = poly_features.fit_transform(x)\n",
    "y_pred2 = lin_reg.predict(x_poly)\n",
    "\n",
    "plt.figure()\n",
    "plt.title(\"Full quadratic curve\")\n",
    "plt.plot(data, target, \"*\")\n",
    "plt.plot(x, y_pred2, \"r.\")\n",
    "\n",
    "#Prediction on the x values we were given\n",
    "y_pred = lin_reg.predict(poly_train_data)\n",
    "plt.figure()\n",
    "plt.title(\"Quadratic curve - based on only x points given\")\n",
    "plt.plot(data, target, \"*\")\n",
    "plt.plot(data, y_pred, \"r.\")\n",
    "\n",
    "#using training data\n",
    "poly_features = PolynomialFeatures(degree=2, include_bias=False)\n",
    "poly_train_data = poly_features.fit_transform(train_data)\n",
    "lin_reg = LinearRegression()\n",
    "lin_reg.fit(poly_train_data, train_target)"
   ]
  },
  {
   "cell_type": "code",
   "execution_count": 19,
   "id": "e06bdcfb",
   "metadata": {},
   "outputs": [
    {
     "name": "stdout",
     "output_type": "stream",
     "text": [
      "Ridge Train RMSE: 2.6610638203036285\n",
      "\n",
      "Lasso Train RMSE: 2.960960606280627\n"
     ]
    },
    {
     "name": "stderr",
     "output_type": "stream",
     "text": [
      "C:\\Users\\borin\\anaconda3\\envs\\COMP3222Wk1\\lib\\site-packages\\sklearn\\linear_model\\_coordinate_descent.py:530: ConvergenceWarning: Objective did not converge. You might want to increase the number of iterations. Duality gap: 2034.4921457837054, tolerance: 3.2275003242574254\n",
      "  model = cd_fast.enet_coordinate_descent(\n"
     ]
    }
   ],
   "source": [
    "poly_features = PolynomialFeatures(degree=2, include_bias=False)\n",
    "poly_train_data = poly_features.fit_transform(train_data)\n",
    "lin_reg = LinearRegression()\n",
    "lin_reg.fit(poly_train_data, train_target)\n",
    "lin_train_predict = lin_reg.predict(poly_train_data)\n",
    "lin_test_predict = lin_reg.predict(poly_train_data)\n",
    "\n",
    "alpha_ridge_poly = 2\n",
    "ridge_reg3 = Ridge(alpha_ridge, solver=\"cholesky\")\n",
    "ridge_reg3.fit(poly_train_data, train_target)\n",
    "\n",
    "ridge3_train_predict = ridge_reg3.predict(poly_train_data)\n",
    "print(\"Ridge Train RMSE:\", rmse(train_target, ridge3_train_predict))\n",
    "\n",
    "# fit a lasso regressor\n",
    "alpha_lasso = 0.1\n",
    "lasso_reg3 = Lasso(alpha_lasso)\n",
    "lasso_reg3.fit(poly_train_data, train_target)\n",
    "lasso3_train_predict = lasso_reg3.predict(poly_train_data)\n",
    "print(\"\\nLasso Train RMSE:\", rmse(train_target, lasso3_train_predict))"
   ]
  },
  {
   "cell_type": "code",
   "execution_count": 20,
   "id": "76b1ec95",
   "metadata": {},
   "outputs": [
    {
     "data": {
      "text/plain": [
       "SVR(C=100, degree=2, kernel='poly')"
      ]
     },
     "execution_count": 20,
     "metadata": {},
     "output_type": "execute_result"
    }
   ],
   "source": [
    "from sklearn.svm import SVR\n",
    "\n",
    "svm_reg = SVR(kernel=\"poly\", degree=2, C=100, epsilon=0.1)\n",
    "svm_reg.fit(train_data, np.ravel(train_target))"
   ]
  },
  {
   "cell_type": "code",
   "execution_count": 21,
   "id": "e2f7525d",
   "metadata": {},
   "outputs": [
    {
     "data": {
      "text/plain": [
       "[<matplotlib.lines.Line2D at 0x184b4051220>,\n",
       " <matplotlib.lines.Line2D at 0x184b40512e0>,\n",
       " <matplotlib.lines.Line2D at 0x184b4051400>,\n",
       " <matplotlib.lines.Line2D at 0x184b4051520>,\n",
       " <matplotlib.lines.Line2D at 0x184b4051640>,\n",
       " <matplotlib.lines.Line2D at 0x184b4051760>,\n",
       " <matplotlib.lines.Line2D at 0x184b4051880>,\n",
       " <matplotlib.lines.Line2D at 0x184b40519a0>,\n",
       " <matplotlib.lines.Line2D at 0x184b4051ac0>,\n",
       " <matplotlib.lines.Line2D at 0x184b4051be0>,\n",
       " <matplotlib.lines.Line2D at 0x184b4022ac0>,\n",
       " <matplotlib.lines.Line2D at 0x184b4051df0>,\n",
       " <matplotlib.lines.Line2D at 0x184b4051f10>,\n",
       " <matplotlib.lines.Line2D at 0x184b4056070>,\n",
       " <matplotlib.lines.Line2D at 0x184b40561c0>,\n",
       " <matplotlib.lines.Line2D at 0x184b40562e0>,\n",
       " <matplotlib.lines.Line2D at 0x184b4056400>,\n",
       " <matplotlib.lines.Line2D at 0x184b4056520>,\n",
       " <matplotlib.lines.Line2D at 0x184b4056640>,\n",
       " <matplotlib.lines.Line2D at 0x184b4056760>,\n",
       " <matplotlib.lines.Line2D at 0x184b4056880>,\n",
       " <matplotlib.lines.Line2D at 0x184b40569d0>,\n",
       " <matplotlib.lines.Line2D at 0x184b4056af0>,\n",
       " <matplotlib.lines.Line2D at 0x184b4056c10>,\n",
       " <matplotlib.lines.Line2D at 0x184b4056d30>,\n",
       " <matplotlib.lines.Line2D at 0x184b4056e50>]"
      ]
     },
     "execution_count": 21,
     "metadata": {},
     "output_type": "execute_result"
    },
    {
     "data": {
      "image/png": "[encoded data removed]",
      "text/plain": [
       "<Figure size 432x288 with 1 Axes>"
      ]
     },
     "metadata": {
      "needs_background": "light"
     },
     "output_type": "display_data"
    }
   ],
   "source": [
    "plt.figure()\n",
    "plt.plot(train_data, train_target, \"*\", train_data, lin_train_predict, \".\")"
   ]
  },
  {
   "cell_type": "code",
   "execution_count": 22,
   "id": "2cf0d6e5",
   "metadata": {},
   "outputs": [
    {
     "ename": "ValueError",
     "evalue": "x and y must have same first dimension, but have shapes (102, 13) and (404,)",
     "output_type": "error",
     "traceback": [
      "\u001b[1;31m---------------------------------------------------------------------------\u001b[0m",
      "\u001b[1;31mValueError\u001b[0m                                Traceback (most recent call last)",
      "\u001b[1;32m~\\AppData\\Local\\Temp/ipykernel_7748/499594060.py\u001b[0m in \u001b[0;36m<module>\u001b[1;34m\u001b[0m\n\u001b[0;32m      1\u001b[0m \u001b[0mplt\u001b[0m\u001b[1;33m.\u001b[0m\u001b[0mfigure\u001b[0m\u001b[1;33m(\u001b[0m\u001b[1;33m)\u001b[0m\u001b[1;33m\u001b[0m\u001b[1;33m\u001b[0m\u001b[0m\n\u001b[1;32m----> 2\u001b[1;33m \u001b[0mplt\u001b[0m\u001b[1;33m.\u001b[0m\u001b[0mplot\u001b[0m\u001b[1;33m(\u001b[0m\u001b[0mtrain_data\u001b[0m\u001b[1;33m,\u001b[0m \u001b[0mtrain_target\u001b[0m\u001b[1;33m,\u001b[0m \u001b[1;34m\"*\"\u001b[0m\u001b[1;33m,\u001b[0m \u001b[0mtrain_data\u001b[0m\u001b[1;33m,\u001b[0m \u001b[0mlin_train_predict\u001b[0m\u001b[1;33m,\u001b[0m \u001b[1;34m\".\"\u001b[0m\u001b[1;33m,\u001b[0m \u001b[0mtest_data\u001b[0m\u001b[1;33m,\u001b[0m \u001b[0mtest_target\u001b[0m\u001b[1;33m,\u001b[0m \u001b[1;34m\"*\"\u001b[0m\u001b[1;33m,\u001b[0m \u001b[0mtest_data\u001b[0m\u001b[1;33m,\u001b[0m \u001b[0mlin_test_predict\u001b[0m\u001b[1;33m,\u001b[0m \u001b[1;34m\".\"\u001b[0m\u001b[1;33m)\u001b[0m\u001b[1;33m\u001b[0m\u001b[1;33m\u001b[0m\u001b[0m\n\u001b[0m",
      "\u001b[1;32m~\\anaconda3\\envs\\COMP3222Wk1\\lib\\site-packages\\matplotlib\\pyplot.py\u001b[0m in \u001b[0;36mplot\u001b[1;34m(scalex, scaley, data, *args, **kwargs)\u001b[0m\n\u001b[0;32m   3017\u001b[0m \u001b[1;33m@\u001b[0m\u001b[0m_copy_docstring_and_deprecators\u001b[0m\u001b[1;33m(\u001b[0m\u001b[0mAxes\u001b[0m\u001b[1;33m.\u001b[0m\u001b[0mplot\u001b[0m\u001b[1;33m)\u001b[0m\u001b[1;33m\u001b[0m\u001b[1;33m\u001b[0m\u001b[0m\n\u001b[0;32m   3018\u001b[0m \u001b[1;32mdef\u001b[0m \u001b[0mplot\u001b[0m\u001b[1;33m(\u001b[0m\u001b[1;33m*\u001b[0m\u001b[0margs\u001b[0m\u001b[1;33m,\u001b[0m \u001b[0mscalex\u001b[0m\u001b[1;33m=\u001b[0m\u001b[1;32mTrue\u001b[0m\u001b[1;33m,\u001b[0m \u001b[0mscaley\u001b[0m\u001b[1;33m=\u001b[0m\u001b[1;32mTrue\u001b[0m\u001b[1;33m,\u001b[0m \u001b[0mdata\u001b[0m\u001b[1;33m=\u001b[0m\u001b[1;32mNone\u001b[0m\u001b[1;33m,\u001b[0m \u001b[1;33m**\u001b[0m\u001b[0mkwargs\u001b[0m\u001b[1;33m)\u001b[0m\u001b[1;33m:\u001b[0m\u001b[1;33m\u001b[0m\u001b[1;33m\u001b[0m\u001b[0m\n\u001b[1;32m-> 3019\u001b[1;33m     return gca().plot(\n\u001b[0m\u001b[0;32m   3020\u001b[0m         \u001b[1;33m*\u001b[0m\u001b[0margs\u001b[0m\u001b[1;33m,\u001b[0m \u001b[0mscalex\u001b[0m\u001b[1;33m=\u001b[0m\u001b[0mscalex\u001b[0m\u001b[1;33m,\u001b[0m \u001b[0mscaley\u001b[0m\u001b[1;33m=\u001b[0m\u001b[0mscaley\u001b[0m\u001b[1;33m,\u001b[0m\u001b[1;33m\u001b[0m\u001b[1;33m\u001b[0m\u001b[0m\n\u001b[0;32m   3021\u001b[0m         **({\"data\": data} if data is not None else {}), **kwargs)\n",
      "\u001b[1;32m~\\anaconda3\\envs\\COMP3222Wk1\\lib\\site-packages\\matplotlib\\axes\\_axes.py\u001b[0m in \u001b[0;36mplot\u001b[1;34m(self, scalex, scaley, data, *args, **kwargs)\u001b[0m\n\u001b[0;32m   1603\u001b[0m         \"\"\"\n\u001b[0;32m   1604\u001b[0m         \u001b[0mkwargs\u001b[0m \u001b[1;33m=\u001b[0m \u001b[0mcbook\u001b[0m\u001b[1;33m.\u001b[0m\u001b[0mnormalize_kwargs\u001b[0m\u001b[1;33m(\u001b[0m\u001b[0mkwargs\u001b[0m\u001b[1;33m,\u001b[0m \u001b[0mmlines\u001b[0m\u001b[1;33m.\u001b[0m\u001b[0mLine2D\u001b[0m\u001b[1;33m)\u001b[0m\u001b[1;33m\u001b[0m\u001b[1;33m\u001b[0m\u001b[0m\n\u001b[1;32m-> 1605\u001b[1;33m         \u001b[0mlines\u001b[0m \u001b[1;33m=\u001b[0m \u001b[1;33m[\u001b[0m\u001b[1;33m*\u001b[0m\u001b[0mself\u001b[0m\u001b[1;33m.\u001b[0m\u001b[0m_get_lines\u001b[0m\u001b[1;33m(\u001b[0m\u001b[1;33m*\u001b[0m\u001b[0margs\u001b[0m\u001b[1;33m,\u001b[0m \u001b[0mdata\u001b[0m\u001b[1;33m=\u001b[0m\u001b[0mdata\u001b[0m\u001b[1;33m,\u001b[0m \u001b[1;33m**\u001b[0m\u001b[0mkwargs\u001b[0m\u001b[1;33m)\u001b[0m\u001b[1;33m]\u001b[0m\u001b[1;33m\u001b[0m\u001b[1;33m\u001b[0m\u001b[0m\n\u001b[0m\u001b[0;32m   1606\u001b[0m         \u001b[1;32mfor\u001b[0m \u001b[0mline\u001b[0m \u001b[1;32min\u001b[0m \u001b[0mlines\u001b[0m\u001b[1;33m:\u001b[0m\u001b[1;33m\u001b[0m\u001b[1;33m\u001b[0m\u001b[0m\n\u001b[0;32m   1607\u001b[0m             \u001b[0mself\u001b[0m\u001b[1;33m.\u001b[0m\u001b[0madd_line\u001b[0m\u001b[1;33m(\u001b[0m\u001b[0mline\u001b[0m\u001b[1;33m)\u001b[0m\u001b[1;33m\u001b[0m\u001b[1;33m\u001b[0m\u001b[0m\n",
      "\u001b[1;32m~\\anaconda3\\envs\\COMP3222Wk1\\lib\\site-packages\\matplotlib\\axes\\_base.py\u001b[0m in \u001b[0;36m__call__\u001b[1;34m(self, data, *args, **kwargs)\u001b[0m\n\u001b[0;32m    313\u001b[0m                 \u001b[0mthis\u001b[0m \u001b[1;33m+=\u001b[0m \u001b[0margs\u001b[0m\u001b[1;33m[\u001b[0m\u001b[1;36m0\u001b[0m\u001b[1;33m]\u001b[0m\u001b[1;33m,\u001b[0m\u001b[1;33m\u001b[0m\u001b[1;33m\u001b[0m\u001b[0m\n\u001b[0;32m    314\u001b[0m                 \u001b[0margs\u001b[0m \u001b[1;33m=\u001b[0m \u001b[0margs\u001b[0m\u001b[1;33m[\u001b[0m\u001b[1;36m1\u001b[0m\u001b[1;33m:\u001b[0m\u001b[1;33m]\u001b[0m\u001b[1;33m\u001b[0m\u001b[1;33m\u001b[0m\u001b[0m\n\u001b[1;32m--> 315\u001b[1;33m             \u001b[1;32myield\u001b[0m \u001b[1;32mfrom\u001b[0m \u001b[0mself\u001b[0m\u001b[1;33m.\u001b[0m\u001b[0m_plot_args\u001b[0m\u001b[1;33m(\u001b[0m\u001b[0mthis\u001b[0m\u001b[1;33m,\u001b[0m \u001b[0mkwargs\u001b[0m\u001b[1;33m)\u001b[0m\u001b[1;33m\u001b[0m\u001b[1;33m\u001b[0m\u001b[0m\n\u001b[0m\u001b[0;32m    316\u001b[0m \u001b[1;33m\u001b[0m\u001b[0m\n\u001b[0;32m    317\u001b[0m     \u001b[1;32mdef\u001b[0m \u001b[0mget_next_color\u001b[0m\u001b[1;33m(\u001b[0m\u001b[0mself\u001b[0m\u001b[1;33m)\u001b[0m\u001b[1;33m:\u001b[0m\u001b[1;33m\u001b[0m\u001b[1;33m\u001b[0m\u001b[0m\n",
      "\u001b[1;32m~\\anaconda3\\envs\\COMP3222Wk1\\lib\\site-packages\\matplotlib\\axes\\_base.py\u001b[0m in \u001b[0;36m_plot_args\u001b[1;34m(self, tup, kwargs, return_kwargs)\u001b[0m\n\u001b[0;32m    499\u001b[0m \u001b[1;33m\u001b[0m\u001b[0m\n\u001b[0;32m    500\u001b[0m         \u001b[1;32mif\u001b[0m \u001b[0mx\u001b[0m\u001b[1;33m.\u001b[0m\u001b[0mshape\u001b[0m\u001b[1;33m[\u001b[0m\u001b[1;36m0\u001b[0m\u001b[1;33m]\u001b[0m \u001b[1;33m!=\u001b[0m \u001b[0my\u001b[0m\u001b[1;33m.\u001b[0m\u001b[0mshape\u001b[0m\u001b[1;33m[\u001b[0m\u001b[1;36m0\u001b[0m\u001b[1;33m]\u001b[0m\u001b[1;33m:\u001b[0m\u001b[1;33m\u001b[0m\u001b[1;33m\u001b[0m\u001b[0m\n\u001b[1;32m--> 501\u001b[1;33m             raise ValueError(f\"x and y must have same first dimension, but \"\n\u001b[0m\u001b[0;32m    502\u001b[0m                              f\"have shapes {x.shape} and {y.shape}\")\n\u001b[0;32m    503\u001b[0m         \u001b[1;32mif\u001b[0m \u001b[0mx\u001b[0m\u001b[1;33m.\u001b[0m\u001b[0mndim\u001b[0m \u001b[1;33m>\u001b[0m \u001b[1;36m2\u001b[0m \u001b[1;32mor\u001b[0m \u001b[0my\u001b[0m\u001b[1;33m.\u001b[0m\u001b[0mndim\u001b[0m \u001b[1;33m>\u001b[0m \u001b[1;36m2\u001b[0m\u001b[1;33m:\u001b[0m\u001b[1;33m\u001b[0m\u001b[1;33m\u001b[0m\u001b[0m\n",
      "\u001b[1;31mValueError\u001b[0m: x and y must have same first dimension, but have shapes (102, 13) and (404,)"
     ]
    },
    {
     "data": {
      "image/png": "[encoded data removed]",
      "text/plain": [
       "<Figure size 432x288 with 1 Axes>"
      ]
     },
     "metadata": {
      "needs_background": "light"
     },
     "output_type": "display_data"
    }
   ],
   "source": [
    "plt.figure()\n",
    "plt.plot(train_data, train_target, \"*\", train_data, lin_train_predict, \".\", test_data, test_target, \"*\", test_data, lin_test_predict, \".\")"
   ]
  },
  {
   "cell_type": "code",
   "execution_count": null,
   "id": "c19d496d",
   "metadata": {},
   "outputs": [],
   "source": []
  }
 ],
 "metadata": {
  "kernelspec": {
   "display_name": "Python 3 (ipykernel)",
   "language": "python",
   "name": "python3"
  },
  "language_info": {
   "codemirror_mode": {
    "name": "ipython",
    "version": 3
   },
   "file_extension": ".py",
   "mimetype": "text/x-python",
   "name": "python",
   "nbconvert_exporter": "python",
   "pygments_lexer": "ipython3",
   "version": "3.8.8"
  }
 },
 "nbformat": 4,
 "nbformat_minor": 5
}
